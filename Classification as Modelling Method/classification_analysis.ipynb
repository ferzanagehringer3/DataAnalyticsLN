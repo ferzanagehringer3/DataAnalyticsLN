{
 "cells": [
  {
   "cell_type": "markdown",
   "metadata": {},
   "source": [
    "\"Which countries are likely to experience high refugee counts based on GDP?\""
   ]
  },
  {
   "cell_type": "markdown",
   "metadata": {},
   "source": [
    "## Libraries and settings"
   ]
  },
  {
   "cell_type": "code",
   "execution_count": 1,
   "metadata": {},
   "outputs": [
    {
     "name": "stdout",
     "output_type": "stream",
     "text": [
      "/workspaces/DataAnalyticsLN/Classification as Modelling Method\n"
     ]
    },
    {
     "data": {
      "text/plain": [
       "'1.6.0'"
      ]
     },
     "execution_count": 1,
     "metadata": {},
     "output_type": "execute_result"
    }
   ],
   "source": [
    "# Libraries\n",
    "import os\n",
    "import numpy as np\n",
    "import pandas as pd\n",
    "import seaborn as sns\n",
    "import matplotlib.pyplot as plt\n",
    "from IPython.display import Image\n",
    "\n",
    "from sklearn import tree\n",
    "from sklearn.metrics import RocCurveDisplay\n",
    "from sklearn.tree import DecisionTreeClassifier\n",
    "from sklearn.ensemble import RandomForestClassifier\n",
    "from sklearn.model_selection import train_test_split\n",
    "from sklearn.metrics import classification_report, confusion_matrix\n",
    "\n",
    "# Ignore warnings\n",
    "import warnings\n",
    "warnings.filterwarnings('ignore')\n",
    "\n",
    "# Show current working directory\n",
    "print(os.getcwd())\n",
    "\n",
    "# Show version of scikit-learn\n",
    "import sklearn\n",
    "sklearn.__version__"
   ]
  },
  {
   "cell_type": "markdown",
   "metadata": {},
   "source": [
    "## Import data"
   ]
  },
  {
   "cell_type": "code",
   "execution_count": 5,
   "metadata": {},
   "outputs": [
    {
     "name": "stdout",
     "output_type": "stream",
     "text": [
      "(2160, 7)\n"
     ]
    },
    {
     "data": {
      "text/html": [
       "<div>\n",
       "<style scoped>\n",
       "    .dataframe tbody tr th:only-of-type {\n",
       "        vertical-align: middle;\n",
       "    }\n",
       "\n",
       "    .dataframe tbody tr th {\n",
       "        vertical-align: top;\n",
       "    }\n",
       "\n",
       "    .dataframe thead th {\n",
       "        text-align: right;\n",
       "    }\n",
       "</style>\n",
       "<table border=\"1\" class=\"dataframe\">\n",
       "  <thead>\n",
       "    <tr style=\"text-align: right;\">\n",
       "      <th></th>\n",
       "      <th>year</th>\n",
       "      <th>country_name</th>\n",
       "      <th>gdp</th>\n",
       "      <th>total_refugees</th>\n",
       "      <th>coo_name</th>\n",
       "      <th>total</th>\n",
       "      <th>male_female_ratio</th>\n",
       "    </tr>\n",
       "  </thead>\n",
       "  <tbody>\n",
       "    <tr>\n",
       "      <th>0</th>\n",
       "      <td>2001</td>\n",
       "      <td>France</td>\n",
       "      <td>1.370377e+12</td>\n",
       "      <td>6036.0</td>\n",
       "      <td>Afghanistan</td>\n",
       "      <td>1284.0</td>\n",
       "      <td>1.221453</td>\n",
       "    </tr>\n",
       "    <tr>\n",
       "      <th>1</th>\n",
       "      <td>2001</td>\n",
       "      <td>France</td>\n",
       "      <td>1.370377e+12</td>\n",
       "      <td>6036.0</td>\n",
       "      <td>Syrian Arab Rep.</td>\n",
       "      <td>192.0</td>\n",
       "      <td>2.918367</td>\n",
       "    </tr>\n",
       "    <tr>\n",
       "      <th>2</th>\n",
       "      <td>2001</td>\n",
       "      <td>France</td>\n",
       "      <td>1.370377e+12</td>\n",
       "      <td>6036.0</td>\n",
       "      <td>Iran (Islamic Rep. of)</td>\n",
       "      <td>1987.0</td>\n",
       "      <td>1.806497</td>\n",
       "    </tr>\n",
       "    <tr>\n",
       "      <th>3</th>\n",
       "      <td>2001</td>\n",
       "      <td>France</td>\n",
       "      <td>1.370377e+12</td>\n",
       "      <td>6036.0</td>\n",
       "      <td>Iraq</td>\n",
       "      <td>1629.0</td>\n",
       "      <td>1.291139</td>\n",
       "    </tr>\n",
       "    <tr>\n",
       "      <th>4</th>\n",
       "      <td>2001</td>\n",
       "      <td>France</td>\n",
       "      <td>1.370377e+12</td>\n",
       "      <td>6036.0</td>\n",
       "      <td>Ukraine</td>\n",
       "      <td>407.0</td>\n",
       "      <td>1.014851</td>\n",
       "    </tr>\n",
       "  </tbody>\n",
       "</table>\n",
       "</div>"
      ],
      "text/plain": [
       "   year country_name           gdp  total_refugees                coo_name  \\\n",
       "0  2001       France  1.370377e+12          6036.0             Afghanistan   \n",
       "1  2001       France  1.370377e+12          6036.0        Syrian Arab Rep.   \n",
       "2  2001       France  1.370377e+12          6036.0  Iran (Islamic Rep. of)   \n",
       "3  2001       France  1.370377e+12          6036.0                    Iraq   \n",
       "4  2001       France  1.370377e+12          6036.0                 Ukraine   \n",
       "\n",
       "    total  male_female_ratio  \n",
       "0  1284.0           1.221453  \n",
       "1   192.0           2.918367  \n",
       "2  1987.0           1.806497  \n",
       "3  1629.0           1.291139  \n",
       "4   407.0           1.014851  "
      ]
     },
     "execution_count": 5,
     "metadata": {},
     "output_type": "execute_result"
    }
   ],
   "source": [
    "#Read and select variables\n",
    "df_refugees_orig = pd.read_csv(\"refugee_data_and_gdp.csv\",sep=',',encoding=\"utf-8\")\n",
    "#Number of rows and columns\n",
    "print(df_refugees_orig.shape)\n",
    "\n",
    "#first 5 rows\n",
    "df_refugees_orig.head(5)"
   ]
  },
  {
   "cell_type": "code",
   "execution_count": 10,
   "metadata": {},
   "outputs": [
    {
     "name": "stdout",
     "output_type": "stream",
     "text": [
      "<class 'pandas.core.frame.DataFrame'>\n",
      "RangeIndex: 2160 entries, 0 to 2159\n",
      "Data columns (total 8 columns):\n",
      " #   Column             Non-Null Count  Dtype   \n",
      "---  ------             --------------  -----   \n",
      " 0   year               2160 non-null   int64   \n",
      " 1   country_name       2160 non-null   object  \n",
      " 2   gdp                2160 non-null   float64 \n",
      " 3   total_refugees     2160 non-null   float64 \n",
      " 4   coo_name           2114 non-null   object  \n",
      " 5   total              2114 non-null   float64 \n",
      " 6   male_female_ratio  883 non-null    float64 \n",
      " 7   refugee_category   1751 non-null   category\n",
      "dtypes: category(1), float64(4), int64(1), object(2)\n",
      "memory usage: 120.5+ KB\n",
      "None\n",
      "              year           gdp  total_refugees         total  \\\n",
      "count  2160.000000  2.160000e+03    2.160000e+03  2.114000e+03   \n",
      "mean   2012.158796  1.213910e+12    1.883347e+05  2.893509e+04   \n",
      "std       6.576959  2.085962e+12    6.145762e+05  2.281973e+05   \n",
      "min    2001.000000  0.000000e+00    0.000000e+00  5.000000e+00   \n",
      "25%    2007.000000  0.000000e+00    8.340000e+02  1.860000e+02   \n",
      "50%    2012.000000  5.321693e+11    1.633400e+04  1.355500e+03   \n",
      "75%    2018.000000  1.966381e+12    9.754125e+04  8.805000e+03   \n",
      "max    2023.000000  2.772071e+13    4.054587e+06  3.737369e+06   \n",
      "\n",
      "       male_female_ratio  \n",
      "count         883.000000  \n",
      "mean            2.909968  \n",
      "std             7.605946  \n",
      "min             0.000000  \n",
      "25%             1.241384  \n",
      "50%             1.602273  \n",
      "75%             2.343031  \n",
      "max           100.780220  \n"
     ]
    }
   ],
   "source": [
    "# Check the data information and summary statistics\n",
    "print(df_refugees_orig.info())\n",
    "print(df_refugees_orig.describe())"
   ]
  },
  {
   "cell_type": "markdown",
   "metadata": {},
   "source": [
    "### Variable description"
   ]
  },
  {
   "cell_type": "markdown",
   "metadata": {},
   "source": []
  },
  {
   "cell_type": "markdown",
   "metadata": {},
   "source": [
    "### Count and remove missing values"
   ]
  },
  {
   "cell_type": "code",
   "execution_count": 11,
   "metadata": {},
   "outputs": [
    {
     "name": "stdout",
     "output_type": "stream",
     "text": [
      "Total number of records: 2160\n",
      "year                    0\n",
      "country_name            0\n",
      "gdp                     0\n",
      "total_refugees          0\n",
      "coo_name               46\n",
      "total                  46\n",
      "male_female_ratio    1277\n",
      "refugee_category      409\n",
      "dtype: int64\n"
     ]
    }
   ],
   "source": [
    "# Step 3: Data Cleaning and Feature Engineering\n",
    "# Drop any irrelevant or null columns\n",
    "df = df_refugees_orig.dropna()  # Drop rows with missing values\n",
    "\n",
    "# Total number of records\n",
    "total_records = len(df_refugees_orig)\n",
    "\n",
    "# Display total number of records\n",
    "print(f\"Total number of records: {total_records}\")\n",
    "\n",
    "# Count missing values\n",
    "print(df_refugees_orig.isna().sum())\n",
    "\n",
    "# Remove missing values\n",
    "df_refugees_orig = df_refugees_orig.dropna(subset=['year', 'country_name', 'gdp', 'total_refugees', 'coo_name', 'total','male_female_ratio'])"
   ]
  },
  {
   "cell_type": "code",
   "execution_count": 21,
   "metadata": {},
   "outputs": [
    {
     "name": "stdout",
     "output_type": "stream",
     "text": [
      "Total number of records after cleaning: 883\n",
      "year                  0\n",
      "country_name          0\n",
      "gdp                   0\n",
      "total_refugees        0\n",
      "coo_name              0\n",
      "total                 0\n",
      "male_female_ratio     0\n",
      "refugee_category     37\n",
      "dtype: int64\n"
     ]
    }
   ],
   "source": [
    "# Total number of records\n",
    "total_records = len(df_refugees_orig)\n",
    "\n",
    "# Display total number of records\n",
    "print(f\"Total number of records after cleaning: {total_records}\")\n",
    "\n",
    "# Count after remove missing values\n",
    "print(df_refugees_orig.isna().sum())"
   ]
  },
  {
   "cell_type": "markdown",
   "metadata": {},
   "source": [
    "### Transform nominal variable to matrix with 0/1 values"
   ]
  },
  {
   "cell_type": "code",
   "execution_count": 23,
   "metadata": {},
   "outputs": [
    {
     "name": "stdout",
     "output_type": "stream",
     "text": [
      "Shape of the data after encoding: (883, 24)\n",
      "   year           gdp  total_refugees   total  male_female_ratio  \\\n",
      "0  2001  1.370377e+12          6036.0  1284.0           1.221453   \n",
      "1  2001  1.370377e+12          6036.0   192.0           2.918367   \n",
      "2  2001  1.370377e+12          6036.0  1987.0           1.806497   \n",
      "3  2001  1.370377e+12          6036.0  1629.0           1.291139   \n",
      "4  2001  1.370377e+12          6036.0   407.0           1.014851   \n",
      "\n",
      "  refugee_category  country_Germany  country_Greece  country_Italy  \\\n",
      "0              Low            False           False          False   \n",
      "1              Low            False           False          False   \n",
      "2              Low            False           False          False   \n",
      "3              Low            False           False          False   \n",
      "4              Low            False           False          False   \n",
      "\n",
      "   country_Portugal  ...  \\\n",
      "0             False  ...   \n",
      "1             False  ...   \n",
      "2             False  ...   \n",
      "3             False  ...   \n",
      "4             False  ...   \n",
      "\n",
      "   country_United Kingdom of Great Britain and Northern Ireland  \\\n",
      "0                                              False              \n",
      "1                                              False              \n",
      "2                                              False              \n",
      "3                                              False              \n",
      "4                                              False              \n",
      "\n",
      "   country_United States of America  coo_Iran (Islamic Rep. of)  coo_Iraq  \\\n",
      "0                             False                       False     False   \n",
      "1                             False                       False     False   \n",
      "2                             False                        True     False   \n",
      "3                             False                       False      True   \n",
      "4                             False                       False     False   \n",
      "\n",
      "   coo_Liberia  coo_Nigeria  coo_Pakistan  coo_Palestinian  \\\n",
      "0        False        False         False            False   \n",
      "1        False        False         False            False   \n",
      "2        False        False         False            False   \n",
      "3        False        False         False            False   \n",
      "4        False        False         False            False   \n",
      "\n",
      "   coo_Syrian Arab Rep.  coo_Ukraine  \n",
      "0                 False        False  \n",
      "1                  True        False  \n",
      "2                 False        False  \n",
      "3                 False        False  \n",
      "4                 False         True  \n",
      "\n",
      "[5 rows x 24 columns]\n"
     ]
    }
   ],
   "source": [
    "# Transform nominal variables ('country_name' and 'coo_name') into 0/1 encoded columns\n",
    "df_encoded = pd.get_dummies(df_refugees_orig, columns=['country_name', 'coo_name'], prefix=['country', 'coo'], drop_first=True)\n",
    "\n",
    "# Display the transformed DataFrame\n",
    "print(\"Shape of the data after encoding:\", df_encoded.shape)\n",
    "print(df_encoded.head())\n"
   ]
  },
  {
   "cell_type": "markdown",
   "metadata": {},
   "source": [
    "### Barchart refugee count by country of origin"
   ]
  },
  {
   "cell_type": "code",
   "execution_count": null,
   "metadata": {},
   "outputs": [],
   "source": [
    "# Create a pivot table\n",
    "table = df_refugees_orig[['total_refugees','coo']].pivot_table(index='total_refugees', \n",
    "                                        columns=['coo'], \n",
    "                                        aggfunc=len)\n",
    "\n",
    "# Plot a stacked bar chart\n",
    "table.plot(kind='bar', \n",
    "           stacked=True, \n",
    "           ylabel='Counts', \n",
    "           xlabel='Years',\n",
    "           title='Survival Status Count by Gender', \n",
    "           rot=0,\n",
    "           figsize=(6,4))\n",
    "\n",
    "plt.show()"
   ]
  },
  {
   "cell_type": "markdown",
   "metadata": {},
   "source": [
    "### Pivot table"
   ]
  },
  {
   "cell_type": "code",
   "execution_count": 25,
   "metadata": {},
   "outputs": [
    {
     "name": "stdout",
     "output_type": "stream",
     "text": [
      "                                                             gdp  \\\n",
      "country_name                                                       \n",
      "France                                              2.508484e+12   \n",
      "Germany                                             3.866673e+12   \n",
      "Greece                                              2.141001e+11   \n",
      "Italy                                               2.183080e+12   \n",
      "Portugal                                            2.641472e+11   \n",
      "Spain                                               1.438017e+12   \n",
      "Sweden                                              5.760937e+11   \n",
      "Switzerland                                         6.056490e+11   \n",
      "Türkiye                                             0.000000e+00   \n",
      "United Kingdom of Great Britain and Northern Ir...  0.000000e+00   \n",
      "United States of America                            0.000000e+00   \n",
      "\n",
      "                                                    total_refugees  \n",
      "country_name                                                        \n",
      "France                                                     49244.0  \n",
      "Germany                                                   856104.0  \n",
      "Greece                                                     83990.0  \n",
      "Italy                                                     157872.0  \n",
      "Portugal                                                   34993.0  \n",
      "Spain                                                      97964.0  \n",
      "Sweden                                                    183583.0  \n",
      "Switzerland                                                30117.0  \n",
      "Türkiye                                                  1438194.0  \n",
      "United Kingdom of Great Britain and Northern Ir...             0.0  \n",
      "United States of America                                       0.0  \n"
     ]
    }
   ],
   "source": [
    "# Using pivot_table to reshape the data and calculate means\n",
    "pivot_table = pd.pivot_table(\n",
    "    df_refugees_orig[['year', 'country_name', 'gdp', 'total_refugees', 'coo_name']],\n",
    "    index=['country_name'],  # Rows\n",
    "    values=['gdp', 'total_refugees'],  # Columns to aggregate\n",
    "    aggfunc=np.mean  # Aggregation function\n",
    ").round(0)\n",
    "\n",
    "# Display the pivot table\n",
    "print(pivot_table)\n"
   ]
  },
  {
   "cell_type": "markdown",
   "metadata": {},
   "source": [
    "### Transform nominal variable to matrix with 0/1  values"
   ]
  },
  {
   "cell_type": "markdown",
   "metadata": {},
   "source": [
    "### Create binary variable xxx"
   ]
  },
  {
   "cell_type": "markdown",
   "metadata": {},
   "source": [
    "## Classification Tree"
   ]
  },
  {
   "cell_type": "markdown",
   "metadata": {},
   "source": [
    "### Create train and test samples (train 80%, test 20% of the data)"
   ]
  },
  {
   "cell_type": "markdown",
   "metadata": {},
   "source": [
    "### Fit the classification tree model and make predictions"
   ]
  },
  {
   "cell_type": "markdown",
   "metadata": {},
   "source": [
    "### Show confusion matrix and classification report"
   ]
  },
  {
   "cell_type": "markdown",
   "metadata": {},
   "source": [
    "### Print text representation of the classification tree"
   ]
  },
  {
   "cell_type": "markdown",
   "metadata": {},
   "source": [
    "### Visualize the classification tree"
   ]
  },
  {
   "cell_type": "markdown",
   "metadata": {},
   "source": [
    "## Random Forest Classifier"
   ]
  },
  {
   "cell_type": "markdown",
   "metadata": {},
   "source": [
    "### Create train and test samples (train 80%, test 20% of the data)"
   ]
  },
  {
   "cell_type": "markdown",
   "metadata": {},
   "source": [
    "### Fit the Random Forest Classifier"
   ]
  },
  {
   "cell_type": "markdown",
   "metadata": {},
   "source": [
    "### Show confusion matrix and classification report"
   ]
  },
  {
   "cell_type": "markdown",
   "metadata": {},
   "source": [
    "### Show feature importance"
   ]
  },
  {
   "cell_type": "markdown",
   "metadata": {},
   "source": [
    "### ROC curve and AUC"
   ]
  }
 ],
 "metadata": {
  "kernelspec": {
   "display_name": "Python 3",
   "language": "python",
   "name": "python3"
  },
  "language_info": {
   "codemirror_mode": {
    "name": "ipython",
    "version": 3
   },
   "file_extension": ".py",
   "mimetype": "text/x-python",
   "name": "python",
   "nbconvert_exporter": "python",
   "pygments_lexer": "ipython3",
   "version": "3.12.1"
  }
 },
 "nbformat": 4,
 "nbformat_minor": 2
}
