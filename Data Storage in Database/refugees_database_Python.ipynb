{
 "cells": [
  {
   "cell_type": "markdown",
   "metadata": {},
   "source": [
    "# Data Storage in Database"
   ]
  },
  {
   "cell_type": "markdown",
   "metadata": {},
   "source": [
    "### Import Libraries"
   ]
  },
  {
   "cell_type": "code",
   "execution_count": 16,
   "metadata": {},
   "outputs": [
    {
     "name": "stdout",
     "output_type": "stream",
     "text": [
      "Aktuelles Verzeichnis: c:\\DataAnalytics\\DataAnalyticsLN\\Data Storage in Database\n"
     ]
    }
   ],
   "source": [
    "# Libraries\n",
    "import os\n",
    "import mysql.connector\n",
    "import fnmatch\n",
    "import numpy as np\n",
    "import pandas as pd\n",
    "import matplotlib.pyplot as plt\n",
    "\n",
    "# Ignore warnings\n",
    "import warnings\n",
    "warnings.filterwarnings(\"ignore\")\n",
    "\n",
    "# Funktion, um eine MySQL-Verbindung zu prüfen\n",
    "def check_conn(conn):\n",
    "    try:\n",
    "        conn.cursor()\n",
    "        return True\n",
    "    except Exception as ex:\n",
    "        return False\n",
    "\n",
    "# Aktuelles Arbeitsverzeichnis abrufen\n",
    "print(\"Aktuelles Verzeichnis:\", os.getcwd())\n"
   ]
  },
  {
   "cell_type": "markdown",
   "metadata": {},
   "source": [
    "## MySQL-Connection"
   ]
  },
  {
   "cell_type": "code",
   "execution_count": 17,
   "metadata": {},
   "outputs": [
    {
     "name": "stdout",
     "output_type": "stream",
     "text": [
      "Verbindung erfolgreich hergestellt!\n"
     ]
    }
   ],
   "source": [
    "# MySQL-Verbindung herstellen\n",
    "conn = mysql.connector.connect(\n",
    "    host=\"localhost\",  # Nur den Hostnamen angeben\n",
    "    port=3306,         # Port separat definieren\n",
    "    user=\"root\",\n",
    "    password=\"Leylaxanampuc1.\",\n",
    "    database=\"refugees\"\n",
    ")\n",
    "cursor = conn.cursor()\n",
    "\n",
    "# Verbindung prüfen\n",
    "if check_conn(conn):\n",
    "    print(\"Verbindung erfolgreich hergestellt!\")\n",
    "else:\n",
    "    print(\"Verbindung fehlgeschlagen.\")\n"
   ]
  },
  {
   "cell_type": "markdown",
   "metadata": {},
   "source": [
    "## Create Tables"
   ]
  },
  {
   "cell_type": "markdown",
   "metadata": {},
   "source": [
    "### Create refugee_gdp_data Table"
   ]
  },
  {
   "cell_type": "code",
   "execution_count": 1,
   "metadata": {},
   "outputs": [
    {
     "ename": "NameError",
     "evalue": "name 'cursor' is not defined",
     "output_type": "error",
     "traceback": [
      "\u001b[1;31m---------------------------------------------------------------------------\u001b[0m",
      "\u001b[1;31mNameError\u001b[0m                                 Traceback (most recent call last)",
      "Cell \u001b[1;32mIn[1], line 2\u001b[0m\n\u001b[0;32m      1\u001b[0m \u001b[38;5;66;03m# Tabelle refugee_gdp_data erstellen\u001b[39;00m\n\u001b[1;32m----> 2\u001b[0m \u001b[43mcursor\u001b[49m\u001b[38;5;241m.\u001b[39mexecute(\u001b[38;5;124m'''\u001b[39m\n\u001b[0;32m      3\u001b[0m \u001b[38;5;124mCREATE TABLE IF NOT EXISTS refugee_gdp_data (\u001b[39m\n\u001b[0;32m      4\u001b[0m \u001b[38;5;124m    year INT,\u001b[39m\n\u001b[0;32m      5\u001b[0m \u001b[38;5;124m    country_name VARCHAR(200),\u001b[39m\n\u001b[0;32m      6\u001b[0m \u001b[38;5;124m    gdp DECIMAL(20,2),\u001b[39m\n\u001b[0;32m      7\u001b[0m \u001b[38;5;124m    total_refugees DECIMAL(15,2),\u001b[39m\n\u001b[0;32m      8\u001b[0m \u001b[38;5;124m    coo_name VARCHAR(200),\u001b[39m\n\u001b[0;32m      9\u001b[0m \u001b[38;5;124m    total DECIMAL(15,2),\u001b[39m\n\u001b[0;32m     10\u001b[0m \u001b[38;5;124m    male_female_ratio DECIMAL(10,2)\u001b[39m\n\u001b[0;32m     11\u001b[0m \u001b[38;5;124m)\u001b[39m\n\u001b[0;32m     12\u001b[0m \u001b[38;5;124m'''\u001b[39m)\n\u001b[0;32m     13\u001b[0m conn\u001b[38;5;241m.\u001b[39mcommit()\n",
      "\u001b[1;31mNameError\u001b[0m: name 'cursor' is not defined"
     ]
    }
   ],
   "source": [
    "# Tabelle refugee_gdp_data erstellen\n",
    "cursor.execute('''\n",
    "CREATE TABLE IF NOT EXISTS refugee_gdp_data (\n",
    "    year INT,\n",
    "    country_name VARCHAR(200),\n",
    "    gdp DECIMAL(20,2),\n",
    "    total_refugees DECIMAL(15,2),\n",
    "    coo_name VARCHAR(200),\n",
    "    total DECIMAL(15,2),\n",
    "    male_female_ratio DECIMAL(10,2)\n",
    ")\n",
    "''')\n",
    "conn.commit()\n"
   ]
  },
  {
   "cell_type": "markdown",
   "metadata": {},
   "source": [
    "### Create refugee_detailed_data Table"
   ]
  },
  {
   "cell_type": "code",
   "execution_count": 19,
   "metadata": {},
   "outputs": [
    {
     "name": "stdout",
     "output_type": "stream",
     "text": [
      "Tabelle refugee_detailed_data erstellt\n"
     ]
    }
   ],
   "source": [
    "# Tabelle refugee_detailed_data erstellen\n",
    "cursor.execute('''\n",
    "CREATE TABLE IF NOT EXISTS refugee_detailed_data (\n",
    "    year INT,\n",
    "    coo_id INT,\n",
    "    coa_id INT,\n",
    "    coo_name VARCHAR(200),\n",
    "    coa_name VARCHAR(200),\n",
    "    coo VARCHAR(3),\n",
    "    coa VARCHAR(3),\n",
    "    coo_iso VARCHAR(3),\n",
    "    coa_iso VARCHAR(3),\n",
    "    f_0_4 INT,\n",
    "    f_5_11 INT,\n",
    "    f_12_17 INT,\n",
    "    f_18_59 INT,\n",
    "    f_60 INT,\n",
    "    f_other INT,\n",
    "    f_total INT,\n",
    "    m_0_4 INT,\n",
    "    m_5_11 INT,\n",
    "    m_12_17 INT,\n",
    "    m_18_59 INT,\n",
    "    m_60 INT,\n",
    "    m_other INT,\n",
    "    m_total INT,\n",
    "    total INT\n",
    ")\n",
    "''')\n",
    "conn.commit()\n",
    "print(\"Tabelle refugee_detailed_data erstellt\")\n",
    "\n"
   ]
  },
  {
   "cell_type": "markdown",
   "metadata": {},
   "source": [
    "## Load and check Data"
   ]
  },
  {
   "cell_type": "code",
   "execution_count": 20,
   "metadata": {},
   "outputs": [
    {
     "name": "stdout",
     "output_type": "stream",
     "text": [
      "Daten aus refugee_data_and_gdp.csv:\n",
      "   year country_name           gdp  total_refugees                coo_name  \\\n",
      "0  2001       France  1.370377e+12          6036.0             Afghanistan   \n",
      "1  2001       France  1.370377e+12          6036.0        Syrian Arab Rep.   \n",
      "2  2001       France  1.370377e+12          6036.0  Iran (Islamic Rep. of)   \n",
      "3  2001       France  1.370377e+12          6036.0                    Iraq   \n",
      "4  2001       France  1.370377e+12          6036.0                 Ukraine   \n",
      "\n",
      "    total  male_female_ratio  \n",
      "0  1284.0           1.221453  \n",
      "1   192.0           2.918367  \n",
      "2  1987.0           1.806497  \n",
      "3  1629.0           1.291139  \n",
      "4   407.0           1.014851  \n",
      "\n",
      "Daten aus unhcr_refugee_detailed_data.csv:\n",
      "   year  coo_id  coa_id     coo_name                  coa_name  coo  coa  \\\n",
      "0  2001       2     202  Afghanistan  United States of America  AFG  USA   \n",
      "1  2002       2     202  Afghanistan  United States of America  AFG  USA   \n",
      "2  2003       2     202  Afghanistan  United States of America  AFG  USA   \n",
      "3  2004       2     202  Afghanistan  United States of America  AFG  USA   \n",
      "4  2005       2     202  Afghanistan  United States of America  AFG  USA   \n",
      "\n",
      "  coo_iso coa_iso  f_0_4  ...  f_other  f_total  m_0_4  m_5_11  m_12_17  \\\n",
      "0     AFG     USA      0  ...        0        0      0       0        0   \n",
      "1     AFG     USA      0  ...        0        0      0       0        0   \n",
      "2     AFG     USA      0  ...        0        0      0       0        0   \n",
      "3     AFG     USA      0  ...        0        0      0       0        0   \n",
      "4     AFG     USA      0  ...        0        0      0       0        0   \n",
      "\n",
      "   m_18_59  m_60  m_other  m_total  total  \n",
      "0        0     0        0        0   7756  \n",
      "1        0     0        0        0   9227  \n",
      "2        0     0        0        0   9821  \n",
      "3        0     0        0        0   9923  \n",
      "4        0     0        0        0   8931  \n",
      "\n",
      "[5 rows x 24 columns]\n"
     ]
    }
   ],
   "source": [
    "# CSV-Dateien laden\n",
    "df_gdp = pd.read_csv('refugee_data_and_gdp.csv')\n",
    "df_detailed = pd.read_csv('unhcr_refugee_detailed_data.csv')\n",
    "\n",
    "# Daten anzeigen\n",
    "print(\"Daten aus refugee_data_and_gdp.csv:\")\n",
    "print(df_gdp.head())\n",
    "\n",
    "print(\"\\nDaten aus unhcr_refugee_detailed_data.csv:\")\n",
    "print(df_detailed.head())\n"
   ]
  },
  {
   "cell_type": "markdown",
   "metadata": {},
   "source": [
    "## Insert Data into Database"
   ]
  },
  {
   "cell_type": "markdown",
   "metadata": {},
   "source": [
    "### Insert refugee_gpd_data into Table"
   ]
  },
  {
   "cell_type": "code",
   "execution_count": 21,
   "metadata": {},
   "outputs": [
    {
     "ename": "DataError",
     "evalue": "1264 (22003): Out of range value for column 'gdp' at row 1",
     "output_type": "error",
     "traceback": [
      "\u001b[1;31m---------------------------------------------------------------------------\u001b[0m",
      "\u001b[1;31mDataError\u001b[0m                                 Traceback (most recent call last)",
      "Cell \u001b[1;32mIn[21], line 2\u001b[0m\n\u001b[0;32m      1\u001b[0m \u001b[38;5;28;01mfor\u001b[39;00m _, row \u001b[38;5;129;01min\u001b[39;00m df_gdp\u001b[38;5;241m.\u001b[39miterrows():\n\u001b[1;32m----> 2\u001b[0m     \u001b[43mcursor\u001b[49m\u001b[38;5;241;43m.\u001b[39;49m\u001b[43mexecute\u001b[49m\u001b[43m(\u001b[49m\u001b[38;5;124;43m'''\u001b[39;49m\n\u001b[0;32m      3\u001b[0m \u001b[38;5;124;43m    INSERT INTO refugee_gdp_data (year, country_name, gdp, total_refugees, coo_name, total, male_female_ratio)\u001b[39;49m\n\u001b[0;32m      4\u001b[0m \u001b[38;5;124;43m    VALUES (\u001b[39;49m\u001b[38;5;132;43;01m%s\u001b[39;49;00m\u001b[38;5;124;43m, \u001b[39;49m\u001b[38;5;132;43;01m%s\u001b[39;49;00m\u001b[38;5;124;43m, \u001b[39;49m\u001b[38;5;132;43;01m%s\u001b[39;49;00m\u001b[38;5;124;43m, \u001b[39;49m\u001b[38;5;132;43;01m%s\u001b[39;49;00m\u001b[38;5;124;43m, \u001b[39;49m\u001b[38;5;132;43;01m%s\u001b[39;49;00m\u001b[38;5;124;43m, \u001b[39;49m\u001b[38;5;132;43;01m%s\u001b[39;49;00m\u001b[38;5;124;43m, \u001b[39;49m\u001b[38;5;132;43;01m%s\u001b[39;49;00m\u001b[38;5;124;43m)\u001b[39;49m\n\u001b[0;32m      5\u001b[0m \u001b[38;5;124;43m    \u001b[39;49m\u001b[38;5;124;43m'''\u001b[39;49m\u001b[43m,\u001b[49m\u001b[43m \u001b[49m\u001b[43m(\u001b[49m\n\u001b[0;32m      6\u001b[0m \u001b[43m        \u001b[49m\u001b[43mrow\u001b[49m\u001b[43m[\u001b[49m\u001b[38;5;124;43m'\u001b[39;49m\u001b[38;5;124;43myear\u001b[39;49m\u001b[38;5;124;43m'\u001b[39;49m\u001b[43m]\u001b[49m\u001b[43m,\u001b[49m\n\u001b[0;32m      7\u001b[0m \u001b[43m        \u001b[49m\u001b[43mrow\u001b[49m\u001b[43m[\u001b[49m\u001b[38;5;124;43m'\u001b[39;49m\u001b[38;5;124;43mcountry_name\u001b[39;49m\u001b[38;5;124;43m'\u001b[39;49m\u001b[43m]\u001b[49m\u001b[43m,\u001b[49m\n\u001b[0;32m      8\u001b[0m \u001b[43m        \u001b[49m\u001b[43mrow\u001b[49m\u001b[43m[\u001b[49m\u001b[38;5;124;43m'\u001b[39;49m\u001b[38;5;124;43mgdp\u001b[39;49m\u001b[38;5;124;43m'\u001b[39;49m\u001b[43m]\u001b[49m\u001b[43m,\u001b[49m\n\u001b[0;32m      9\u001b[0m \u001b[43m        \u001b[49m\u001b[43mrow\u001b[49m\u001b[43m[\u001b[49m\u001b[38;5;124;43m'\u001b[39;49m\u001b[38;5;124;43mtotal_refugees\u001b[39;49m\u001b[38;5;124;43m'\u001b[39;49m\u001b[43m]\u001b[49m\u001b[43m,\u001b[49m\n\u001b[0;32m     10\u001b[0m \u001b[43m        \u001b[49m\u001b[43mrow\u001b[49m\u001b[43m[\u001b[49m\u001b[38;5;124;43m'\u001b[39;49m\u001b[38;5;124;43mcoo_name\u001b[39;49m\u001b[38;5;124;43m'\u001b[39;49m\u001b[43m]\u001b[49m\u001b[43m,\u001b[49m\n\u001b[0;32m     11\u001b[0m \u001b[43m        \u001b[49m\u001b[43mrow\u001b[49m\u001b[43m[\u001b[49m\u001b[38;5;124;43m'\u001b[39;49m\u001b[38;5;124;43mtotal\u001b[39;49m\u001b[38;5;124;43m'\u001b[39;49m\u001b[43m]\u001b[49m\u001b[43m,\u001b[49m\n\u001b[0;32m     12\u001b[0m \u001b[43m        \u001b[49m\u001b[43mrow\u001b[49m\u001b[43m[\u001b[49m\u001b[38;5;124;43m'\u001b[39;49m\u001b[38;5;124;43mmale_female_ratio\u001b[39;49m\u001b[38;5;124;43m'\u001b[39;49m\u001b[43m]\u001b[49m\n\u001b[0;32m     13\u001b[0m \u001b[43m    \u001b[49m\u001b[43m)\u001b[49m\u001b[43m)\u001b[49m\n\u001b[0;32m     14\u001b[0m conn\u001b[38;5;241m.\u001b[39mcommit()\n\u001b[0;32m     15\u001b[0m \u001b[38;5;28mprint\u001b[39m(\u001b[38;5;124m\"\u001b[39m\u001b[38;5;124mDaten in refugee_gdp_data eingefügt\u001b[39m\u001b[38;5;124m\"\u001b[39m)\n",
      "File \u001b[1;32m~\\AppData\\Local\\Packages\\PythonSoftwareFoundation.Python.3.11_qbz5n2kfra8p0\\LocalCache\\local-packages\\Python311\\site-packages\\mysql\\connector\\cursor.py:537\u001b[0m, in \u001b[0;36mMySQLCursor.execute\u001b[1;34m(self, operation, params, multi)\u001b[0m\n\u001b[0;32m    534\u001b[0m     \u001b[38;5;28;01mreturn\u001b[39;00m \u001b[38;5;28mself\u001b[39m\u001b[38;5;241m.\u001b[39m_execute_iter(\u001b[38;5;28mself\u001b[39m\u001b[38;5;241m.\u001b[39m_connection\u001b[38;5;241m.\u001b[39mcmd_query_iter(stmt))\n\u001b[0;32m    536\u001b[0m \u001b[38;5;28;01mtry\u001b[39;00m:\n\u001b[1;32m--> 537\u001b[0m     \u001b[38;5;28mself\u001b[39m\u001b[38;5;241m.\u001b[39m_handle_result(\u001b[38;5;28;43mself\u001b[39;49m\u001b[38;5;241;43m.\u001b[39;49m\u001b[43m_connection\u001b[49m\u001b[38;5;241;43m.\u001b[39;49m\u001b[43mcmd_query\u001b[49m\u001b[43m(\u001b[49m\u001b[43mstmt\u001b[49m\u001b[43m)\u001b[49m)\n\u001b[0;32m    538\u001b[0m \u001b[38;5;28;01mexcept\u001b[39;00m InterfaceError \u001b[38;5;28;01mas\u001b[39;00m err:\n\u001b[0;32m    539\u001b[0m     \u001b[38;5;28;01mif\u001b[39;00m \u001b[38;5;28mself\u001b[39m\u001b[38;5;241m.\u001b[39m_connection\u001b[38;5;241m.\u001b[39mhave_next_result:\n",
      "File \u001b[1;32m~\\AppData\\Local\\Packages\\PythonSoftwareFoundation.Python.3.11_qbz5n2kfra8p0\\LocalCache\\local-packages\\Python311\\site-packages\\mysql\\connector\\opentelemetry\\context_propagation.py:97\u001b[0m, in \u001b[0;36mwith_context_propagation.<locals>.wrapper\u001b[1;34m(cnx, *args, **kwargs)\u001b[0m\n\u001b[0;32m     95\u001b[0m \u001b[38;5;66;03m# pylint: disable=possibly-used-before-assignment\u001b[39;00m\n\u001b[0;32m     96\u001b[0m \u001b[38;5;28;01mif\u001b[39;00m \u001b[38;5;129;01mnot\u001b[39;00m OTEL_ENABLED \u001b[38;5;129;01mor\u001b[39;00m \u001b[38;5;129;01mnot\u001b[39;00m cnx\u001b[38;5;241m.\u001b[39motel_context_propagation:\n\u001b[1;32m---> 97\u001b[0m     \u001b[38;5;28;01mreturn\u001b[39;00m \u001b[43mmethod\u001b[49m\u001b[43m(\u001b[49m\u001b[43mcnx\u001b[49m\u001b[43m,\u001b[49m\u001b[43m \u001b[49m\u001b[38;5;241;43m*\u001b[39;49m\u001b[43margs\u001b[49m\u001b[43m,\u001b[49m\u001b[43m \u001b[49m\u001b[38;5;241;43m*\u001b[39;49m\u001b[38;5;241;43m*\u001b[39;49m\u001b[43mkwargs\u001b[49m\u001b[43m)\u001b[49m\n\u001b[0;32m     99\u001b[0m current_span \u001b[38;5;241m=\u001b[39m trace\u001b[38;5;241m.\u001b[39mget_current_span()\n\u001b[0;32m    100\u001b[0m tp_header \u001b[38;5;241m=\u001b[39m \u001b[38;5;28;01mNone\u001b[39;00m\n",
      "File \u001b[1;32m~\\AppData\\Local\\Packages\\PythonSoftwareFoundation.Python.3.11_qbz5n2kfra8p0\\LocalCache\\local-packages\\Python311\\site-packages\\mysql\\connector\\connection.py:872\u001b[0m, in \u001b[0;36mMySQLConnection.cmd_query\u001b[1;34m(self, query, raw, buffered, raw_as_string)\u001b[0m\n\u001b[0;32m    870\u001b[0m query \u001b[38;5;241m=\u001b[39m \u001b[38;5;28mbytes\u001b[39m(packet)\n\u001b[0;32m    871\u001b[0m \u001b[38;5;28;01mtry\u001b[39;00m:\n\u001b[1;32m--> 872\u001b[0m     result \u001b[38;5;241m=\u001b[39m \u001b[38;5;28;43mself\u001b[39;49m\u001b[38;5;241;43m.\u001b[39;49m\u001b[43m_handle_result\u001b[49m\u001b[43m(\u001b[49m\u001b[38;5;28;43mself\u001b[39;49m\u001b[38;5;241;43m.\u001b[39;49m\u001b[43m_send_cmd\u001b[49m\u001b[43m(\u001b[49m\u001b[43mServerCmd\u001b[49m\u001b[38;5;241;43m.\u001b[39;49m\u001b[43mQUERY\u001b[49m\u001b[43m,\u001b[49m\u001b[43m \u001b[49m\u001b[43mquery\u001b[49m\u001b[43m)\u001b[49m\u001b[43m)\u001b[49m\n\u001b[0;32m    873\u001b[0m \u001b[38;5;28;01mexcept\u001b[39;00m ProgrammingError \u001b[38;5;28;01mas\u001b[39;00m err:\n\u001b[0;32m    874\u001b[0m     \u001b[38;5;28;01mif\u001b[39;00m err\u001b[38;5;241m.\u001b[39merrno \u001b[38;5;241m==\u001b[39m \u001b[38;5;241m3948\u001b[39m \u001b[38;5;129;01mand\u001b[39;00m \u001b[38;5;124m\"\u001b[39m\u001b[38;5;124mLoading local data is disabled\u001b[39m\u001b[38;5;124m\"\u001b[39m \u001b[38;5;129;01min\u001b[39;00m err\u001b[38;5;241m.\u001b[39mmsg:\n",
      "File \u001b[1;32m~\\AppData\\Local\\Packages\\PythonSoftwareFoundation.Python.3.11_qbz5n2kfra8p0\\LocalCache\\local-packages\\Python311\\site-packages\\mysql\\connector\\connection.py:648\u001b[0m, in \u001b[0;36mMySQLConnection._handle_result\u001b[1;34m(self, packet)\u001b[0m\n\u001b[0;32m    646\u001b[0m     \u001b[38;5;28;01mreturn\u001b[39;00m \u001b[38;5;28mself\u001b[39m\u001b[38;5;241m.\u001b[39m_handle_eof(packet)\n\u001b[0;32m    647\u001b[0m \u001b[38;5;28;01mif\u001b[39;00m packet[\u001b[38;5;241m4\u001b[39m] \u001b[38;5;241m==\u001b[39m \u001b[38;5;241m255\u001b[39m:\n\u001b[1;32m--> 648\u001b[0m     \u001b[38;5;28;01mraise\u001b[39;00m get_exception(packet)\n\u001b[0;32m    650\u001b[0m \u001b[38;5;66;03m# We have a text result set\u001b[39;00m\n\u001b[0;32m    651\u001b[0m column_count \u001b[38;5;241m=\u001b[39m \u001b[38;5;28mself\u001b[39m\u001b[38;5;241m.\u001b[39m_protocol\u001b[38;5;241m.\u001b[39mparse_column_count(packet)\n",
      "\u001b[1;31mDataError\u001b[0m: 1264 (22003): Out of range value for column 'gdp' at row 1"
     ]
    }
   ],
   "source": [
    "for _, row in df_gdp.iterrows():\n",
    "    cursor.execute('''\n",
    "    INSERT INTO refugee_gdp_data (year, country_name, gdp, total_refugees, coo_name, total, male_female_ratio)\n",
    "    VALUES (%s, %s, %s, %s, %s, %s, %s)\n",
    "    ''', (\n",
    "        row['year'],\n",
    "        row['country_name'],\n",
    "        row['gdp'],\n",
    "        row['total_refugees'],\n",
    "        row['coo_name'],\n",
    "        row['total'],\n",
    "        row['male_female_ratio']\n",
    "    ))\n",
    "conn.commit()\n",
    "print(\"Daten in refugee_gdp_data eingefügt\")\n",
    "\n"
   ]
  },
  {
   "cell_type": "markdown",
   "metadata": {},
   "source": [
    "### Insert refugee_detailed_data into Table"
   ]
  },
  {
   "cell_type": "code",
   "execution_count": null,
   "metadata": {},
   "outputs": [],
   "source": [
    "# Daten in refugee_detailed_data einfügen\n",
    "for _, row in df_detailed.iterrows():\n",
    "    cursor.execute('''\n",
    "    INSERT INTO refugee_detailed_data (\n",
    "        year, coo_id, coa_id, coo_name, coa_name, coo, coa, coo_iso, coa_iso,\n",
    "        f_0_4, f_5_11, f_12_17, f_18_59, f_60, f_other, f_total,\n",
    "        m_0_4, m_5_11, m_12_17, m_18_59, m_60, m_other, m_total, total\n",
    "    )\n",
    "    VALUES (%s, %s, %s, %s, %s, %s, %s, %s, %s, %s, %s, %s, %s, %s, %s, %s,\n",
    "            %s, %s, %s, %s, %s, %s, %s, %s)\n",
    "    ''', (\n",
    "        row['year'],\n",
    "        row['coo_id'],\n",
    "        row['coa_id'],\n",
    "        row['coo_name'],\n",
    "        row['coa_name'],\n",
    "        row['coo'],\n",
    "        row['coa'],\n",
    "        row['coo_iso'],\n",
    "        row['coa_iso'],\n",
    "        row['f_0_4'],\n",
    "        row['f_5_11'],\n",
    "        row['f_12_17'],\n",
    "        row['f_18_59'],\n",
    "        row['f_60'],\n",
    "        row['f_other'],\n",
    "        row['f_total'],\n",
    "        row['m_0_4'],\n",
    "        row['m_5_11'],\n",
    "        row['m_12_17'],\n",
    "        row['m_18_59'],\n",
    "        row['m_60'],\n",
    "        row['m_other'],\n",
    "        row['m_total'],\n",
    "        row['total']\n",
    "    ))\n",
    "conn.commit()\n",
    "print(\"Daten in refugee_detailed_data eingefügt\")\n"
   ]
  },
  {
   "cell_type": "markdown",
   "metadata": {},
   "source": [
    "## Get Data from MySQL"
   ]
  },
  {
   "cell_type": "code",
   "execution_count": null,
   "metadata": {},
   "outputs": [],
   "source": [
    "# Daten aus refugee_gdp_data abfragen\n",
    "cursor.execute(\"SELECT * FROM refugee_gdp_data LIMIT 5\")\n",
    "print(\"Daten aus refugee_gdp_data:\")\n",
    "for row in cursor.fetchall():\n",
    "    print(row)\n",
    "\n",
    "# Daten aus refugee_detailed_data abfragen\n",
    "cursor.execute(\"SELECT * FROM refugee_detailed_data LIMIT 5\")\n",
    "print(\"\\nDaten aus refugee_detailed_data:\")\n",
    "for row in cursor.fetchall():\n",
    "    print(row)\n"
   ]
  },
  {
   "cell_type": "markdown",
   "metadata": {},
   "source": [
    "## Close Connection"
   ]
  },
  {
   "cell_type": "code",
   "execution_count": null,
   "metadata": {},
   "outputs": [],
   "source": [
    "# Verbindung schließen\n",
    "cursor.close()\n",
    "conn.close()\n",
    "print(\"Verbindung geschlossen\")"
   ]
  }
 ],
 "metadata": {
  "kernelspec": {
   "display_name": "Python 3",
   "language": "python",
   "name": "python3"
  },
  "language_info": {
   "codemirror_mode": {
    "name": "ipython",
    "version": 3
   },
   "file_extension": ".py",
   "mimetype": "text/x-python",
   "name": "python",
   "nbconvert_exporter": "python",
   "pygments_lexer": "ipython3",
   "version": "3.11.9"
  }
 },
 "nbformat": 4,
 "nbformat_minor": 2
}
