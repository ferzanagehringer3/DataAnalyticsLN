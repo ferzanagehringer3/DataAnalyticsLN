{
 "cells": [
  {
   "cell_type": "markdown",
   "metadata": {},
   "source": [
    "# Data Storage in Database"
   ]
  },
  {
   "cell_type": "markdown",
   "metadata": {},
   "source": [
    "### Import Libraries"
   ]
  },
  {
   "cell_type": "code",
   "execution_count": 1,
   "metadata": {},
   "outputs": [
    {
     "name": "stdout",
     "output_type": "stream",
     "text": [
      "Aktuelles Verzeichnis: c:\\DataAnalytics\\DataAnalyticsLN\\Data Storage in Database\n"
     ]
    }
   ],
   "source": [
    "# Libraries\n",
    "import os\n",
    "import mysql.connector\n",
    "import fnmatch\n",
    "import numpy as np\n",
    "import pandas as pd\n",
    "import matplotlib.pyplot as plt\n",
    "\n",
    "# Ignore warnings\n",
    "import warnings\n",
    "warnings.filterwarnings(\"ignore\")\n",
    "\n",
    "# Funktion, um eine MySQL-Verbindung zu prüfen\n",
    "def check_conn(conn):\n",
    "    try:\n",
    "        conn.cursor()\n",
    "        return True\n",
    "    except Exception as ex:\n",
    "        return False\n",
    "\n",
    "# Aktuelles Arbeitsverzeichnis abrufen\n",
    "print(\"Aktuelles Verzeichnis:\", os.getcwd())\n"
   ]
  },
  {
   "cell_type": "markdown",
   "metadata": {},
   "source": [
    "# Load the datasets"
   ]
  },
  {
   "cell_type": "code",
   "execution_count": 5,
   "metadata": {},
   "outputs": [
    {
     "name": "stdout",
     "output_type": "stream",
     "text": [
      "UNHCR Data:\n"
     ]
    },
    {
     "data": {
      "text/html": [
       "<div>\n",
       "<style scoped>\n",
       "    .dataframe tbody tr th:only-of-type {\n",
       "        vertical-align: middle;\n",
       "    }\n",
       "\n",
       "    .dataframe tbody tr th {\n",
       "        vertical-align: top;\n",
       "    }\n",
       "\n",
       "    .dataframe thead th {\n",
       "        text-align: right;\n",
       "    }\n",
       "</style>\n",
       "<table border=\"1\" class=\"dataframe\">\n",
       "  <thead>\n",
       "    <tr style=\"text-align: right;\">\n",
       "      <th></th>\n",
       "      <th>year</th>\n",
       "      <th>coo_id</th>\n",
       "      <th>coa_id</th>\n",
       "      <th>coo_name</th>\n",
       "      <th>coa_name</th>\n",
       "      <th>coo</th>\n",
       "      <th>coa</th>\n",
       "      <th>coo_iso</th>\n",
       "      <th>coa_iso</th>\n",
       "      <th>f_0_4</th>\n",
       "      <th>...</th>\n",
       "      <th>f_other</th>\n",
       "      <th>f_total</th>\n",
       "      <th>m_0_4</th>\n",
       "      <th>m_5_11</th>\n",
       "      <th>m_12_17</th>\n",
       "      <th>m_18_59</th>\n",
       "      <th>m_60</th>\n",
       "      <th>m_other</th>\n",
       "      <th>m_total</th>\n",
       "      <th>total</th>\n",
       "    </tr>\n",
       "  </thead>\n",
       "  <tbody>\n",
       "    <tr>\n",
       "      <th>0</th>\n",
       "      <td>2001</td>\n",
       "      <td>2</td>\n",
       "      <td>202</td>\n",
       "      <td>Afghanistan</td>\n",
       "      <td>United States of America</td>\n",
       "      <td>AFG</td>\n",
       "      <td>USA</td>\n",
       "      <td>AFG</td>\n",
       "      <td>USA</td>\n",
       "      <td>0</td>\n",
       "      <td>...</td>\n",
       "      <td>0</td>\n",
       "      <td>0</td>\n",
       "      <td>0</td>\n",
       "      <td>0</td>\n",
       "      <td>0</td>\n",
       "      <td>0</td>\n",
       "      <td>0</td>\n",
       "      <td>0</td>\n",
       "      <td>0</td>\n",
       "      <td>7756</td>\n",
       "    </tr>\n",
       "    <tr>\n",
       "      <th>1</th>\n",
       "      <td>2002</td>\n",
       "      <td>2</td>\n",
       "      <td>202</td>\n",
       "      <td>Afghanistan</td>\n",
       "      <td>United States of America</td>\n",
       "      <td>AFG</td>\n",
       "      <td>USA</td>\n",
       "      <td>AFG</td>\n",
       "      <td>USA</td>\n",
       "      <td>0</td>\n",
       "      <td>...</td>\n",
       "      <td>0</td>\n",
       "      <td>0</td>\n",
       "      <td>0</td>\n",
       "      <td>0</td>\n",
       "      <td>0</td>\n",
       "      <td>0</td>\n",
       "      <td>0</td>\n",
       "      <td>0</td>\n",
       "      <td>0</td>\n",
       "      <td>9227</td>\n",
       "    </tr>\n",
       "    <tr>\n",
       "      <th>2</th>\n",
       "      <td>2003</td>\n",
       "      <td>2</td>\n",
       "      <td>202</td>\n",
       "      <td>Afghanistan</td>\n",
       "      <td>United States of America</td>\n",
       "      <td>AFG</td>\n",
       "      <td>USA</td>\n",
       "      <td>AFG</td>\n",
       "      <td>USA</td>\n",
       "      <td>0</td>\n",
       "      <td>...</td>\n",
       "      <td>0</td>\n",
       "      <td>0</td>\n",
       "      <td>0</td>\n",
       "      <td>0</td>\n",
       "      <td>0</td>\n",
       "      <td>0</td>\n",
       "      <td>0</td>\n",
       "      <td>0</td>\n",
       "      <td>0</td>\n",
       "      <td>9821</td>\n",
       "    </tr>\n",
       "    <tr>\n",
       "      <th>3</th>\n",
       "      <td>2004</td>\n",
       "      <td>2</td>\n",
       "      <td>202</td>\n",
       "      <td>Afghanistan</td>\n",
       "      <td>United States of America</td>\n",
       "      <td>AFG</td>\n",
       "      <td>USA</td>\n",
       "      <td>AFG</td>\n",
       "      <td>USA</td>\n",
       "      <td>0</td>\n",
       "      <td>...</td>\n",
       "      <td>0</td>\n",
       "      <td>0</td>\n",
       "      <td>0</td>\n",
       "      <td>0</td>\n",
       "      <td>0</td>\n",
       "      <td>0</td>\n",
       "      <td>0</td>\n",
       "      <td>0</td>\n",
       "      <td>0</td>\n",
       "      <td>9923</td>\n",
       "    </tr>\n",
       "    <tr>\n",
       "      <th>4</th>\n",
       "      <td>2005</td>\n",
       "      <td>2</td>\n",
       "      <td>202</td>\n",
       "      <td>Afghanistan</td>\n",
       "      <td>United States of America</td>\n",
       "      <td>AFG</td>\n",
       "      <td>USA</td>\n",
       "      <td>AFG</td>\n",
       "      <td>USA</td>\n",
       "      <td>0</td>\n",
       "      <td>...</td>\n",
       "      <td>0</td>\n",
       "      <td>0</td>\n",
       "      <td>0</td>\n",
       "      <td>0</td>\n",
       "      <td>0</td>\n",
       "      <td>0</td>\n",
       "      <td>0</td>\n",
       "      <td>0</td>\n",
       "      <td>0</td>\n",
       "      <td>8931</td>\n",
       "    </tr>\n",
       "  </tbody>\n",
       "</table>\n",
       "<p>5 rows × 24 columns</p>\n",
       "</div>"
      ],
      "text/plain": [
       "   year  coo_id  coa_id     coo_name                  coa_name  coo  coa  \\\n",
       "0  2001       2     202  Afghanistan  United States of America  AFG  USA   \n",
       "1  2002       2     202  Afghanistan  United States of America  AFG  USA   \n",
       "2  2003       2     202  Afghanistan  United States of America  AFG  USA   \n",
       "3  2004       2     202  Afghanistan  United States of America  AFG  USA   \n",
       "4  2005       2     202  Afghanistan  United States of America  AFG  USA   \n",
       "\n",
       "  coo_iso coa_iso  f_0_4  ...  f_other  f_total  m_0_4  m_5_11  m_12_17  \\\n",
       "0     AFG     USA      0  ...        0        0      0       0        0   \n",
       "1     AFG     USA      0  ...        0        0      0       0        0   \n",
       "2     AFG     USA      0  ...        0        0      0       0        0   \n",
       "3     AFG     USA      0  ...        0        0      0       0        0   \n",
       "4     AFG     USA      0  ...        0        0      0       0        0   \n",
       "\n",
       "   m_18_59  m_60  m_other  m_total  total  \n",
       "0        0     0        0        0   7756  \n",
       "1        0     0        0        0   9227  \n",
       "2        0     0        0        0   9821  \n",
       "3        0     0        0        0   9923  \n",
       "4        0     0        0        0   8931  \n",
       "\n",
       "[5 rows x 24 columns]"
      ]
     },
     "execution_count": 5,
     "metadata": {},
     "output_type": "execute_result"
    }
   ],
   "source": [
    "unhcr_file_path = 'unhcr_refugee_detailed_data.csv'\n",
    "gdp_file_path = 'refugee_data_and_gdp.csv'\n",
    "\n",
    "unhcr_data = pd.read_csv(unhcr_file_path)\n",
    "gdp_data = pd.read_csv(gdp_file_path)\n",
    "\n",
    "# Display the first few rows of both datasets to understand their structure\n",
    "print(\"UNHCR Data:\")\n",
    "unhcr_data.head()\n",
    "\n"
   ]
  },
  {
   "cell_type": "code",
   "execution_count": 6,
   "metadata": {},
   "outputs": [
    {
     "name": "stdout",
     "output_type": "stream",
     "text": [
      "Refugee and GDP Data:\n"
     ]
    },
    {
     "data": {
      "text/html": [
       "<div>\n",
       "<style scoped>\n",
       "    .dataframe tbody tr th:only-of-type {\n",
       "        vertical-align: middle;\n",
       "    }\n",
       "\n",
       "    .dataframe tbody tr th {\n",
       "        vertical-align: top;\n",
       "    }\n",
       "\n",
       "    .dataframe thead th {\n",
       "        text-align: right;\n",
       "    }\n",
       "</style>\n",
       "<table border=\"1\" class=\"dataframe\">\n",
       "  <thead>\n",
       "    <tr style=\"text-align: right;\">\n",
       "      <th></th>\n",
       "      <th>year</th>\n",
       "      <th>country_name</th>\n",
       "      <th>gdp</th>\n",
       "      <th>total_refugees</th>\n",
       "      <th>coo_name</th>\n",
       "      <th>total</th>\n",
       "      <th>male_female_ratio</th>\n",
       "    </tr>\n",
       "  </thead>\n",
       "  <tbody>\n",
       "    <tr>\n",
       "      <th>0</th>\n",
       "      <td>2001</td>\n",
       "      <td>France</td>\n",
       "      <td>1.370377e+12</td>\n",
       "      <td>6036.0</td>\n",
       "      <td>Afghanistan</td>\n",
       "      <td>1284.0</td>\n",
       "      <td>1.221453</td>\n",
       "    </tr>\n",
       "    <tr>\n",
       "      <th>1</th>\n",
       "      <td>2001</td>\n",
       "      <td>France</td>\n",
       "      <td>1.370377e+12</td>\n",
       "      <td>6036.0</td>\n",
       "      <td>Syrian Arab Rep.</td>\n",
       "      <td>192.0</td>\n",
       "      <td>2.918367</td>\n",
       "    </tr>\n",
       "    <tr>\n",
       "      <th>2</th>\n",
       "      <td>2001</td>\n",
       "      <td>France</td>\n",
       "      <td>1.370377e+12</td>\n",
       "      <td>6036.0</td>\n",
       "      <td>Iran (Islamic Rep. of)</td>\n",
       "      <td>1987.0</td>\n",
       "      <td>1.806497</td>\n",
       "    </tr>\n",
       "    <tr>\n",
       "      <th>3</th>\n",
       "      <td>2001</td>\n",
       "      <td>France</td>\n",
       "      <td>1.370377e+12</td>\n",
       "      <td>6036.0</td>\n",
       "      <td>Iraq</td>\n",
       "      <td>1629.0</td>\n",
       "      <td>1.291139</td>\n",
       "    </tr>\n",
       "    <tr>\n",
       "      <th>4</th>\n",
       "      <td>2001</td>\n",
       "      <td>France</td>\n",
       "      <td>1.370377e+12</td>\n",
       "      <td>6036.0</td>\n",
       "      <td>Ukraine</td>\n",
       "      <td>407.0</td>\n",
       "      <td>1.014851</td>\n",
       "    </tr>\n",
       "  </tbody>\n",
       "</table>\n",
       "</div>"
      ],
      "text/plain": [
       "   year country_name           gdp  total_refugees                coo_name  \\\n",
       "0  2001       France  1.370377e+12          6036.0             Afghanistan   \n",
       "1  2001       France  1.370377e+12          6036.0        Syrian Arab Rep.   \n",
       "2  2001       France  1.370377e+12          6036.0  Iran (Islamic Rep. of)   \n",
       "3  2001       France  1.370377e+12          6036.0                    Iraq   \n",
       "4  2001       France  1.370377e+12          6036.0                 Ukraine   \n",
       "\n",
       "    total  male_female_ratio  \n",
       "0  1284.0           1.221453  \n",
       "1   192.0           2.918367  \n",
       "2  1987.0           1.806497  \n",
       "3  1629.0           1.291139  \n",
       "4   407.0           1.014851  "
      ]
     },
     "execution_count": 6,
     "metadata": {},
     "output_type": "execute_result"
    }
   ],
   "source": [
    "print(\"Refugee and GDP Data:\")\n",
    "gdp_data.head()"
   ]
  },
  {
   "cell_type": "code",
   "execution_count": 8,
   "metadata": {},
   "outputs": [
    {
     "name": "stdout",
     "output_type": "stream",
     "text": [
      "Cleaning UNHCR Data...\n",
      "Cleaning Refugee and GDP Data...\n"
     ]
    }
   ],
   "source": [
    "## Data Preparation\n",
    "# Clean and prepare the UNHCR data\n",
    "print(\"Cleaning UNHCR Data...\")\n",
    "unhcr_data.dropna(inplace=True)  # Remove missing values\n",
    "unhcr_data.drop_duplicates(inplace=True)  # Remove duplicates\n",
    "\n",
    "# Clean and prepare the GDP data\n",
    "print(\"Cleaning Refugee and GDP Data...\")\n",
    "gdp_data.dropna(inplace=True)\n",
    "gdp_data.drop_duplicates(inplace=True)\n",
    "\n"
   ]
  },
  {
   "cell_type": "markdown",
   "metadata": {},
   "source": [
    "## MySQL-Connection"
   ]
  },
  {
   "cell_type": "code",
   "execution_count": 9,
   "metadata": {},
   "outputs": [
    {
     "name": "stdout",
     "output_type": "stream",
     "text": [
      "Verbindung erfolgreich hergestellt!\n"
     ]
    }
   ],
   "source": [
    "# MySQL-Verbindung herstellen\n",
    "conn = mysql.connector.connect(\n",
    "    host=\"localhost\",  # Nur den Hostnamen angeben\n",
    "    port=3306,         # Port separat definieren\n",
    "    user=\"root\",\n",
    "    password=\"Leylaxanampuc1.\",\n",
    "    database=\"refugees\"\n",
    ")\n",
    "cursor = conn.cursor()\n",
    "\n",
    "# Verbindung prüfen\n",
    "if check_conn(conn):\n",
    "    print(\"Verbindung erfolgreich hergestellt!\")\n",
    "else:\n",
    "    print(\"Verbindung fehlgeschlagen.\")\n"
   ]
  },
  {
   "cell_type": "code",
   "execution_count": 10,
   "metadata": {},
   "outputs": [],
   "source": [
    "# Create a new database\n",
    "cursor.execute(\"CREATE DATABASE IF NOT EXISTS RefugeeAnalysis;\")\n",
    "conn.database = \"RefugeeAnalysis\""
   ]
  },
  {
   "cell_type": "code",
   "execution_count": 11,
   "metadata": {},
   "outputs": [],
   "source": [
    "# Create tables for the datasets\n",
    "cursor.execute(\"\"\"\n",
    "CREATE TABLE IF NOT EXISTS UNHCR_Data (\n",
    "    year INT,\n",
    "    coo_id INT,\n",
    "    coa_id INT,\n",
    "    coo_name VARCHAR(255),\n",
    "    coa_name VARCHAR(255),\n",
    "    coo_iso VARCHAR(10),\n",
    "    coa_iso VARCHAR(10),\n",
    "    f_0_4 INT,\n",
    "    f_5_11 INT,\n",
    "    f_12_17 INT,\n",
    "    f_18_59 INT,\n",
    "    f_60 INT,\n",
    "    f_other INT,\n",
    "    f_total INT,\n",
    "    m_0_4 INT,\n",
    "    m_5_11 INT,\n",
    "    m_12_17 INT,\n",
    "    m_18_59 INT,\n",
    "    m_60 INT,\n",
    "    m_other INT,\n",
    "    m_total INT,\n",
    "    total INT\n",
    ");\n",
    "\"\"\")\n",
    "\n",
    "cursor.execute(\"\"\"\n",
    "CREATE TABLE IF NOT EXISTS Refugee_GDP_Data (\n",
    "    year INT,\n",
    "    country_name VARCHAR(255),\n",
    "    gdp FLOAT,\n",
    "    total_refugees INT,\n",
    "    coo_name VARCHAR(255),\n",
    "    total INT,\n",
    "    male_female_ratio FLOAT\n",
    ");\n",
    "\"\"\")\n"
   ]
  },
  {
   "cell_type": "code",
   "execution_count": 12,
   "metadata": {},
   "outputs": [
    {
     "name": "stdout",
     "output_type": "stream",
     "text": [
      "Inserting data into MySQL...\n",
      "Data inserted successfully.\n"
     ]
    }
   ],
   "source": [
    "# Insert data into MySQL tables\n",
    "print(\"Inserting data into MySQL...\")\n",
    "for _, row in unhcr_data.iterrows():\n",
    "    cursor.execute(\"\"\"\n",
    "    INSERT INTO UNHCR_Data (year, coo_id, coa_id, coo_name, coa_name, coo_iso, coa_iso, f_0_4, f_5_11, f_12_17, f_18_59, f_60, f_other, f_total, m_0_4, m_5_11, m_12_17, m_18_59, m_60, m_other, m_total, total)\n",
    "    VALUES (%s, %s, %s, %s, %s, %s, %s, %s, %s, %s, %s, %s, %s, %s, %s, %s, %s, %s, %s, %s, %s, %s);\n",
    "    \"\"\", tuple(row[[\"year\", \"coo_id\", \"coa_id\", \"coo_name\", \"coa_name\", \"coo_iso\", \"coa_iso\", \"f_0_4\", \"f_5_11\", \"f_12_17\", \"f_18_59\", \"f_60\", \"f_other\", \"f_total\", \"m_0_4\", \"m_5_11\", \"m_12_17\", \"m_18_59\", \"m_60\", \"m_other\", \"m_total\", \"total\"]]))\n",
    "\n",
    "for _, row in gdp_data.iterrows():\n",
    "    cursor.execute(\"\"\"\n",
    "    INSERT INTO Refugee_GDP_Data (year, country_name, gdp, total_refugees, coo_name, total, male_female_ratio)\n",
    "    VALUES (%s, %s, %s, %s, %s, %s, %s);\n",
    "    \"\"\", tuple(row[[\"year\", \"country_name\", \"gdp\", \"total_refugees\", \"coo_name\", \"total\", \"male_female_ratio\"]]))\n",
    "\n",
    "conn.commit()\n",
    "print(\"Data inserted successfully.\")"
   ]
  },
  {
   "cell_type": "markdown",
   "metadata": {},
   "source": [
    "## Close Connection"
   ]
  },
  {
   "cell_type": "code",
   "execution_count": null,
   "metadata": {},
   "outputs": [],
   "source": [
    "# Verbindung schließen\n",
    "cursor.close()\n",
    "conn.close()\n",
    "print(\"Verbindung geschlossen\")"
   ]
  }
 ],
 "metadata": {
  "kernelspec": {
   "display_name": "Python 3",
   "language": "python",
   "name": "python3"
  },
  "language_info": {
   "codemirror_mode": {
    "name": "ipython",
    "version": 3
   },
   "file_extension": ".py",
   "mimetype": "text/x-python",
   "name": "python",
   "nbconvert_exporter": "python",
   "pygments_lexer": "ipython3",
   "version": "3.11.9"
  }
 },
 "nbformat": 4,
 "nbformat_minor": 2
}
