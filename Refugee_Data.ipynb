{
 "cells": [
  {
   "cell_type": "markdown",
   "metadata": {},
   "source": [
    "# Fetching Refugee Data using UNHCR API\n",
    "This notebook demonstrates how to use the UNHCR API to fetch refugee data and save it as a CSV file."
   ]
  },
  {
   "cell_type": "code",
   "execution_count": 17,
   "metadata": {},
   "outputs": [],
   "source": [
    "import requests\n",
    "import pandas as pd\n",
    "import json"
   ]
  },
  {
   "cell_type": "markdown",
   "metadata": {},
   "source": [
    "## Define API Parameters\n",
    "We fetch data for all countries and years using the UNHCR API."
   ]
  },
  {
   "cell_type": "code",
   "execution_count": 18,
   "metadata": {},
   "outputs": [],
   "source": [
    "# Define API URL\n",
    "REFUGEE_STATS_URL = 'https://api.unhcr.org/population/v1/countries/?limit=56&page=56®ion=region_example&unhcr_region=56'"
   ]
  },
  {
   "cell_type": "markdown",
   "metadata": {},
   "source": [
    "## Fetch Data from the API\n",
    "We create a function to fetch data from the API and handle errors gracefully."
   ]
  },
  {
   "cell_type": "code",
   "execution_count": 19,
   "metadata": {},
   "outputs": [],
   "source": [
    "def fetch_data_from_unhcr(api_url):\n",
    "    response = requests.get(api_url)\n",
    "    print(f'Request URL: {response.url}')\n",
    "    if response.status_code == 200:\n",
    "        try:\n",
    "            return response.json()\n",
    "        except json.JSONDecodeError as e:\n",
    "            print('JSON Decode Error:', e)\n",
    "            return None\n",
    "    else:\n",
    "        print(f'Failed to fetch data. Status code: {response.status_code}')\n",
    "        print('Response text:', response.text)\n",
    "        return None"
   ]
  },
  {
   "cell_type": "markdown",
   "metadata": {},
   "source": [
    "## Process and Save the Data\n",
    "Fetch the data, parse it, and save it as a CSV file with the required columns."
   ]
  },
  {
   "cell_type": "code",
   "execution_count": 20,
   "metadata": {},
   "outputs": [
    {
     "name": "stdout",
     "output_type": "stream",
     "text": [
      "Request URL: https://api.unhcr.org/population/v1/countries/?limit=56&page=56%C2%AEion=region_example&unhcr_region=56\n",
      "No data available or an error occurred.\n"
     ]
    }
   ],
   "source": [
    "# Fetch data\n",
    "country_data = fetch_data_from_unhcr(REFUGEE_STATS_URL)\n",
    "\n",
    "# Parse the fetched data\n",
    "if country_data and 'data' in country_data:\n",
    "    refugee_data = []\n",
    "    for entry in country_data['data']:\n",
    "        refugee_data.append({\n",
    "            'Year': entry.get('year', 'N/A'),\n",
    "            'Country of Origin': entry.get('coo', 'N/A'),\n",
    "            'Host Country': entry.get('coa', 'N/A'),\n",
    "            'Refugees': entry.get('refugees', 'N/A'),\n",
    "            'Asylum Seekers': entry.get('asylum_seekers', 'N/A'),\n",
    "            'Returned Refugees': entry.get('returned_refugees', 'N/A'),\n",
    "            'Stateless Individuals': entry.get('stateless', 'N/A'),\n",
    "            'GDP (Host Country)': 'N/A',  # Placeholder, needs external enrichment\n",
    "            'Population (Host Country)': 'N/A',  # Placeholder, needs external enrichment\n",
    "            'Conflict Intensity': 'N/A',  # Placeholder, adjust with proper data\n",
    "            'Unemployment Rate': 'N/A',  # Placeholder\n",
    "            'Avg Education Level': 'N/A'  # Placeholder\n",
    "        })\n",
    "\n",
    "    # Create DataFrame and save to CSV\n",
    "    df = pd.DataFrame(refugee_data)\n",
    "    csv_filename = 'refugee_data_all_countries.csv'\n",
    "    df.to_csv(csv_filename, index=False)\n",
    "    print(f\"CSV file '{csv_filename}' created successfully.\")\n",
    "else:\n",
    "    print('No data available or an error occurred.')"
   ]
  }
 ],
 "metadata": {
  "kernelspec": {
   "display_name": ".venv",
   "language": "python",
   "name": "python3"
  },
  "language_info": {
   "codemirror_mode": {
    "name": "ipython",
    "version": 3
   },
   "file_extension": ".py",
   "mimetype": "text/x-python",
   "name": "python",
   "nbconvert_exporter": "python",
   "pygments_lexer": "ipython3",
   "version": "3.12.6"
  }
 },
 "nbformat": 4,
 "nbformat_minor": 4
}
