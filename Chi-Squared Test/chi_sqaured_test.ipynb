{
 "cells": [
  {
   "cell_type": "markdown",
   "metadata": {},
   "source": [
    "# Chi Squared Test"
   ]
  },
  {
   "cell_type": "markdown",
   "metadata": {},
   "source": [
    "### Null Hypothesis\n",
    "\n",
    "There is no association between a country's GDP levels and its refugee count levels.\n",
    "(GDP levels and refugee count levels are independent variables.)"
   ]
  },
  {
   "cell_type": "markdown",
   "metadata": {},
   "source": [
    "### Variables in the Test\n",
    "\n",
    "Variable 1 (GDP Levels): Categorized into Low, Medium, and High.\n",
    "\n",
    "Variable 2 (Refugee Count Levels): Categorized into Low, Medium, and High."
   ]
  },
  {
   "cell_type": "code",
   "execution_count": 9,
   "metadata": {},
   "outputs": [],
   "source": [
    "import pandas as pd\n",
    "import numpy as np\n",
    "from scipy.stats import chi2_contingency"
   ]
  },
  {
   "cell_type": "markdown",
   "metadata": {},
   "source": [
    "significance level alpha=0.05"
   ]
  },
  {
   "cell_type": "code",
   "execution_count": 10,
   "metadata": {},
   "outputs": [
    {
     "name": "stdout",
     "output_type": "stream",
     "text": [
      "Contingency Table:\n",
      "refugee_category  Low  Medium  High\n",
      "gdp_category                       \n",
      "Low                39      20    18\n",
      "Medium             33      29    14\n",
      "High                5      31    41\n",
      "\n",
      "Chi-Squared Statistic: 45.57048184746975\n",
      "P-Value: 3.025541767903403e-09\n",
      "Degrees of Freedom: 4\n",
      "\n",
      "Result: There is a statistically significant relationship between GDP levels and refugee counts.\n"
     ]
    }
   ],
   "source": [
    "# Load Dataset\n",
    "combined_df = pd.read_csv('combined.csv')\n",
    "\n",
    "# Step 1: Categorize GDP and Refugee Counts into Low, Medium, and High\n",
    "combined_df['gdp_category'] = pd.qcut(combined_df['gdp'], 3, labels=['Low', 'Medium', 'High'])\n",
    "combined_df['refugee_category'] = pd.qcut(combined_df['total_refugees'], 3, labels=['Low', 'Medium', 'High'])\n",
    "\n",
    "# Step 2: Create a Contingency Table\n",
    "contingency_table = pd.crosstab(combined_df['gdp_category'], combined_df['refugee_category'])\n",
    "\n",
    "# Step 3: Perform Chi-Squared Test\n",
    "chi2, p, dof, expected = chi2_contingency(contingency_table)\n",
    "\n",
    "# Step 4: Display Results\n",
    "print(\"Contingency Table:\")\n",
    "print(contingency_table)\n",
    "\n",
    "print(\"\\nChi-Squared Statistic:\", chi2)\n",
    "print(\"P-Value:\", p)\n",
    "print(\"Degrees of Freedom:\", dof)\n",
    "\n",
    "if p < 0.05:\n",
    "    print(\"\\nResult: There is a statistically significant relationship between GDP levels and refugee counts.\")\n",
    "else:\n",
    "    print(\"\\nResult: There is no statistically significant relationship between GDP levels and refugee counts.\")"
   ]
  },
  {
   "cell_type": "markdown",
   "metadata": {},
   "source": [
    "The p-value is less than 0.05, indicating that there is a statistically significant relationship between GDP levels and refugee count levels.\n",
    "\n",
    "This means GDP levels are not independent of refugee influx patterns."
   ]
  }
 ],
 "metadata": {
  "kernelspec": {
   "display_name": ".venv",
   "language": "python",
   "name": "python3"
  },
  "language_info": {
   "codemirror_mode": {
    "name": "ipython",
    "version": 3
   },
   "file_extension": ".py",
   "mimetype": "text/x-python",
   "name": "python",
   "nbconvert_exporter": "python",
   "pygments_lexer": "ipython3",
   "version": "3.12.6"
  }
 },
 "nbformat": 4,
 "nbformat_minor": 2
}
