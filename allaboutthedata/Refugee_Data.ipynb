{
 "cells": [
  {
   "cell_type": "markdown",
   "metadata": {},
   "source": [
    "# Fetching Refugee Data using UNHCR API"
   ]
  },
  {
   "cell_type": "code",
   "execution_count": 1,
   "metadata": {},
   "outputs": [],
   "source": [
    "import requests\n",
    "import pandas as pd"
   ]
  },
  {
   "cell_type": "markdown",
   "metadata": {},
   "source": [
    "## Define API Parameters\n",
    "We fetch data for specific countries and years using the UNHCR API."
   ]
  },
  {
   "cell_type": "code",
   "execution_count": 2,
   "metadata": {},
   "outputs": [
    {
     "name": "stdout",
     "output_type": "stream",
     "text": [
      "Fetched 23 rows for AFG → USA, Page 1\n",
      "Fetched 23 rows for AFG → GFR, Page 1\n",
      "Fetched 23 rows for AFG → FRA, Page 1\n",
      "Fetched 23 rows for AFG → SWI, Page 1\n",
      "Fetched 23 rows for AFG → SWE, Page 1\n",
      "Fetched 23 rows for AFG → GBR, Page 1\n",
      "Fetched 23 rows for AFG → GRE, Page 1\n",
      "Fetched 23 rows for AFG → ITA, Page 1\n",
      "Fetched 23 rows for AFG → SPA, Page 1\n",
      "Fetched 23 rows for AFG → POR, Page 1\n",
      "Fetched 23 rows for AFG → TUR, Page 1\n",
      "Fetched 23 rows for SYR → USA, Page 1\n",
      "Fetched 23 rows for SYR → GFR, Page 1\n",
      "Fetched 23 rows for SYR → FRA, Page 1\n",
      "Fetched 23 rows for SYR → SWI, Page 1\n",
      "Fetched 23 rows for SYR → SWE, Page 1\n",
      "Fetched 21 rows for SYR → GBR, Page 1\n",
      "Fetched 23 rows for SYR → GRE, Page 1\n",
      "Fetched 23 rows for SYR → ITA, Page 1\n",
      "Fetched 23 rows for SYR → SPA, Page 1\n",
      "Fetched 12 rows for SYR → POR, Page 1\n",
      "Fetched 23 rows for SYR → TUR, Page 1\n",
      "Fetched 23 rows for IRN → USA, Page 1\n",
      "Fetched 23 rows for IRN → GFR, Page 1\n",
      "Fetched 23 rows for IRN → FRA, Page 1\n",
      "Fetched 23 rows for IRN → SWI, Page 1\n",
      "Fetched 23 rows for IRN → SWE, Page 1\n",
      "Fetched 23 rows for IRN → GBR, Page 1\n",
      "Fetched 23 rows for IRN → GRE, Page 1\n",
      "Fetched 23 rows for IRN → ITA, Page 1\n",
      "Fetched 23 rows for IRN → SPA, Page 1\n",
      "Fetched 15 rows for IRN → POR, Page 1\n",
      "Fetched 23 rows for IRN → TUR, Page 1\n",
      "Fetched 23 rows for IRQ → USA, Page 1\n",
      "Fetched 23 rows for IRQ → GFR, Page 1\n",
      "Fetched 23 rows for IRQ → FRA, Page 1\n",
      "Fetched 23 rows for IRQ → SWI, Page 1\n",
      "Fetched 23 rows for IRQ → SWE, Page 1\n",
      "Fetched 23 rows for IRQ → GBR, Page 1\n",
      "Fetched 23 rows for IRQ → GRE, Page 1\n",
      "Fetched 23 rows for IRQ → ITA, Page 1\n",
      "Fetched 23 rows for IRQ → SPA, Page 1\n",
      "Fetched 23 rows for IRQ → POR, Page 1\n",
      "Fetched 23 rows for IRQ → TUR, Page 1\n",
      "Fetched 23 rows for UKR → USA, Page 1\n",
      "Fetched 23 rows for UKR → GFR, Page 1\n",
      "Fetched 23 rows for UKR → FRA, Page 1\n",
      "Fetched 23 rows for UKR → SWI, Page 1\n",
      "Fetched 23 rows for UKR → SWE, Page 1\n",
      "Fetched 23 rows for UKR → GBR, Page 1\n",
      "Fetched 20 rows for UKR → GRE, Page 1\n",
      "Fetched 23 rows for UKR → ITA, Page 1\n",
      "Fetched 22 rows for UKR → SPA, Page 1\n",
      "Fetched 13 rows for UKR → POR, Page 1\n",
      "Fetched 2 rows for UKR → TUR, Page 1\n",
      "Fetched 22 rows for GAZ → USA, Page 1\n",
      "Fetched 8 rows for GAZ → GFR, Page 1\n",
      "Fetched 23 rows for GAZ → FRA, Page 1\n",
      "Fetched 14 rows for GAZ → SWI, Page 1\n",
      "Fetched 10 rows for GAZ → SWE, Page 1\n",
      "Fetched 21 rows for GAZ → GBR, Page 1\n",
      "Fetched 23 rows for GAZ → GRE, Page 1\n",
      "Fetched 23 rows for GAZ → ITA, Page 1\n",
      "Fetched 19 rows for GAZ → SPA, Page 1\n",
      "Fetched 12 rows for GAZ → POR, Page 1\n",
      "Fetched 18 rows for GAZ → TUR, Page 1\n",
      "Fetched 23 rows for PAK → USA, Page 1\n",
      "Fetched 23 rows for PAK → GFR, Page 1\n",
      "Fetched 23 rows for PAK → FRA, Page 1\n",
      "Fetched 23 rows for PAK → SWI, Page 1\n",
      "Fetched 23 rows for PAK → SWE, Page 1\n",
      "Fetched 23 rows for PAK → GBR, Page 1\n",
      "Fetched 23 rows for PAK → GRE, Page 1\n",
      "Fetched 23 rows for PAK → ITA, Page 1\n",
      "Fetched 23 rows for PAK → SPA, Page 1\n",
      "Fetched 14 rows for PAK → POR, Page 1\n",
      "Fetched 15 rows for PAK → TUR, Page 1\n",
      "Fetched 23 rows for LBR → USA, Page 1\n",
      "Fetched 23 rows for LBR → GFR, Page 1\n",
      "Fetched 23 rows for LBR → FRA, Page 1\n",
      "Fetched 23 rows for LBR → SWI, Page 1\n",
      "Fetched 23 rows for LBR → SWE, Page 1\n",
      "Fetched 23 rows for LBR → GBR, Page 1\n",
      "Fetched 18 rows for LBR → GRE, Page 1\n",
      "Fetched 23 rows for LBR → ITA, Page 1\n",
      "Fetched 23 rows for LBR → SPA, Page 1\n",
      "Fetched 17 rows for LBR → POR, Page 1\n",
      "Fetched 13 rows for LBR → TUR, Page 1\n",
      "Fetched 23 rows for NIG → USA, Page 1\n",
      "Fetched 23 rows for NIG → GFR, Page 1\n",
      "Fetched 23 rows for NIG → FRA, Page 1\n",
      "Fetched 23 rows for NIG → SWI, Page 1\n",
      "Fetched 23 rows for NIG → SWE, Page 1\n",
      "Fetched 23 rows for NIG → GBR, Page 1\n",
      "Fetched 23 rows for NIG → GRE, Page 1\n",
      "Fetched 23 rows for NIG → ITA, Page 1\n",
      "Fetched 23 rows for NIG → SPA, Page 1\n",
      "Fetched 21 rows for NIG → POR, Page 1\n",
      "Fetched 16 rows for NIG → TUR, Page 1\n"
     ]
    }
   ],
   "source": [
    "# API URL and base parameters\n",
    "url = \"https://api.unhcr.org/population/v1/demographics\"\n",
    "\n",
    "# List of example countries of origin and asylum\n",
    "countries_of_origin = [\"AFG\", \"SYR\", \"IRN\", \"IRQ\", \"UKR\", \"GAZ\", \"PAK\", \"COG\", \"LBR\", \"NIG\" ]\n",
    "countries_of_asylum = [\"USA\", \"GFR\", \"FRA\", \"SWI\", \"SWE\", \"GBR\", \"GRE\", \"ITA\", \"SPA\", \"POR\", \"TUR\"]\n",
    "\n",
    "# Storage for all results\n",
    "all_data = []\n",
    "\n",
    "# Iterate through countries\n",
    "for coo in countries_of_origin:\n",
    "    for coa in countries_of_asylum:\n",
    "        params = {\n",
    "            \"limit\": 100,\n",
    "            \"page\": 1,\n",
    "            \"yearFrom\": 1998,\n",
    "            \"yearTo\": 2024,\n",
    "            \"coo\": coo,\n",
    "            \"coa\": coa,\n",
    "            \"cfType\": \"ISO\",\n",
    "            \"ptypeShow\": True,\n",
    "            \"columns\": \"refugees\"\n",
    "        }\n",
    "        \n",
    "        try:\n",
    "            while True:\n",
    "                response = requests.get(url, params=params)\n",
    "                response.raise_for_status()\n",
    "                data = response.json()\n",
    "                \n",
    "                # Extract items and append to the list\n",
    "                items = data.get('items', [])\n",
    "                if not items:\n",
    "                    break  # Stop if no data is returned\n",
    "                \n",
    "                all_data.extend(items)\n",
    "                print(f\"Fetched {len(items)} rows for {coo} → {coa}, Page {params['page']}\")\n",
    "                \n",
    "                # Check if there are more pages\n",
    "                if params['page'] >= data.get('maxPages', 1):\n",
    "                    break\n",
    "                \n",
    "                params['page'] += 1\n",
    "        \n",
    "        except requests.exceptions.RequestException as e:\n",
    "            print(f\"Error fetching data for {coo} → {coa}: {e}\")"
   ]
  },
  {
   "cell_type": "markdown",
   "metadata": {},
   "source": [
    "## Convert data"
   ]
  },
  {
   "cell_type": "code",
   "execution_count": 3,
   "metadata": {},
   "outputs": [
    {
     "name": "stdout",
     "output_type": "stream",
     "text": [
      "Total rows collected: 2114\n",
      "Data saved to 'unhcr_refugee_detailed_data.csv'\n"
     ]
    }
   ],
   "source": [
    "# Convert collected data to DataFrame\n",
    "df = pd.DataFrame(all_data)\n",
    "print(f\"Total rows collected: {len(df)}\")\n",
    "\n",
    "# Save to CSV\n",
    "df.to_csv('unhcr_refugee_detailed_data.csv', index=False)\n",
    "print(\"Data saved to 'unhcr_refugee_detailed_data.csv'\")"
   ]
  }
 ],
 "metadata": {
  "kernelspec": {
   "display_name": ".venv",
   "language": "python",
   "name": "python3"
  },
  "language_info": {
   "codemirror_mode": {
    "name": "ipython",
    "version": 3
   },
   "file_extension": ".py",
   "mimetype": "text/x-python",
   "name": "python",
   "nbconvert_exporter": "python",
   "pygments_lexer": "ipython3",
   "version": "3.12.6"
  }
 },
 "nbformat": 4,
 "nbformat_minor": 4
}
