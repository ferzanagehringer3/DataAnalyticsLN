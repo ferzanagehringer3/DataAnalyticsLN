{
 "cells": [
  {
   "cell_type": "markdown",
   "metadata": {},
   "source": [
    "# Data Preparation"
   ]
  },
  {
   "cell_type": "markdown",
   "metadata": {},
   "source": [
    "## Clean data and create new variables"
   ]
  },
  {
   "cell_type": "markdown",
   "metadata": {},
   "source": [
    "### Libraries and settings"
   ]
  },
  {
   "cell_type": "code",
   "execution_count": 404,
   "metadata": {},
   "outputs": [
    {
     "name": "stdout",
     "output_type": "stream",
     "text": [
      "/Users/almahalimi/Documents/GitHub/DataAnalyticsLN\n"
     ]
    }
   ],
   "source": [
    "# Libraries\n",
    "import os\n",
    "import re\n",
    "import time\n",
    "import fnmatch\n",
    "import numpy as np\n",
    "import pandas as pd\n",
    "\n",
    "# Ignore warnings\n",
    "import warnings\n",
    "warnings.filterwarnings(\"ignore\")\n",
    "\n",
    "# Get current working directory\n",
    "print(os.getcwd())"
   ]
  },
  {
   "cell_type": "markdown",
   "metadata": {},
   "source": [
    "### Importing data"
   ]
  },
  {
   "cell_type": "code",
   "execution_count": 405,
   "metadata": {},
   "outputs": [
    {
     "name": "stdout",
     "output_type": "stream",
     "text": [
      "refugee_data_and_gdp.csv\n",
      "prepared_refugee_data.csv\n",
      "gdp_data_1998_2024.csv\n",
      "combined.csv\n",
      "unhcr_refugee_detailed_data.csv\n"
     ]
    },
    {
     "data": {
      "text/html": [
       "<div>\n",
       "<style scoped>\n",
       "    .dataframe tbody tr th:only-of-type {\n",
       "        vertical-align: middle;\n",
       "    }\n",
       "\n",
       "    .dataframe tbody tr th {\n",
       "        vertical-align: top;\n",
       "    }\n",
       "\n",
       "    .dataframe thead th {\n",
       "        text-align: right;\n",
       "    }\n",
       "</style>\n",
       "<table border=\"1\" class=\"dataframe\">\n",
       "  <thead>\n",
       "    <tr style=\"text-align: right;\">\n",
       "      <th></th>\n",
       "      <th>year</th>\n",
       "      <th>coo_id</th>\n",
       "      <th>coa_id</th>\n",
       "      <th>coo_name</th>\n",
       "      <th>coa_name</th>\n",
       "      <th>coo</th>\n",
       "      <th>coa</th>\n",
       "      <th>coo_iso</th>\n",
       "      <th>coa_iso</th>\n",
       "      <th>f_0_4</th>\n",
       "      <th>...</th>\n",
       "      <th>f_other</th>\n",
       "      <th>f_total</th>\n",
       "      <th>m_0_4</th>\n",
       "      <th>m_5_11</th>\n",
       "      <th>m_12_17</th>\n",
       "      <th>m_18_59</th>\n",
       "      <th>m_60</th>\n",
       "      <th>m_other</th>\n",
       "      <th>m_total</th>\n",
       "      <th>total</th>\n",
       "    </tr>\n",
       "  </thead>\n",
       "  <tbody>\n",
       "    <tr>\n",
       "      <th>0</th>\n",
       "      <td>2001</td>\n",
       "      <td>2</td>\n",
       "      <td>202</td>\n",
       "      <td>Afghanistan</td>\n",
       "      <td>United States of America</td>\n",
       "      <td>AFG</td>\n",
       "      <td>USA</td>\n",
       "      <td>AFG</td>\n",
       "      <td>USA</td>\n",
       "      <td>0</td>\n",
       "      <td>...</td>\n",
       "      <td>0</td>\n",
       "      <td>0</td>\n",
       "      <td>0</td>\n",
       "      <td>0</td>\n",
       "      <td>0</td>\n",
       "      <td>0</td>\n",
       "      <td>0</td>\n",
       "      <td>0</td>\n",
       "      <td>0</td>\n",
       "      <td>7756</td>\n",
       "    </tr>\n",
       "    <tr>\n",
       "      <th>1</th>\n",
       "      <td>2002</td>\n",
       "      <td>2</td>\n",
       "      <td>202</td>\n",
       "      <td>Afghanistan</td>\n",
       "      <td>United States of America</td>\n",
       "      <td>AFG</td>\n",
       "      <td>USA</td>\n",
       "      <td>AFG</td>\n",
       "      <td>USA</td>\n",
       "      <td>0</td>\n",
       "      <td>...</td>\n",
       "      <td>0</td>\n",
       "      <td>0</td>\n",
       "      <td>0</td>\n",
       "      <td>0</td>\n",
       "      <td>0</td>\n",
       "      <td>0</td>\n",
       "      <td>0</td>\n",
       "      <td>0</td>\n",
       "      <td>0</td>\n",
       "      <td>9227</td>\n",
       "    </tr>\n",
       "    <tr>\n",
       "      <th>2</th>\n",
       "      <td>2003</td>\n",
       "      <td>2</td>\n",
       "      <td>202</td>\n",
       "      <td>Afghanistan</td>\n",
       "      <td>United States of America</td>\n",
       "      <td>AFG</td>\n",
       "      <td>USA</td>\n",
       "      <td>AFG</td>\n",
       "      <td>USA</td>\n",
       "      <td>0</td>\n",
       "      <td>...</td>\n",
       "      <td>0</td>\n",
       "      <td>0</td>\n",
       "      <td>0</td>\n",
       "      <td>0</td>\n",
       "      <td>0</td>\n",
       "      <td>0</td>\n",
       "      <td>0</td>\n",
       "      <td>0</td>\n",
       "      <td>0</td>\n",
       "      <td>9821</td>\n",
       "    </tr>\n",
       "    <tr>\n",
       "      <th>3</th>\n",
       "      <td>2004</td>\n",
       "      <td>2</td>\n",
       "      <td>202</td>\n",
       "      <td>Afghanistan</td>\n",
       "      <td>United States of America</td>\n",
       "      <td>AFG</td>\n",
       "      <td>USA</td>\n",
       "      <td>AFG</td>\n",
       "      <td>USA</td>\n",
       "      <td>0</td>\n",
       "      <td>...</td>\n",
       "      <td>0</td>\n",
       "      <td>0</td>\n",
       "      <td>0</td>\n",
       "      <td>0</td>\n",
       "      <td>0</td>\n",
       "      <td>0</td>\n",
       "      <td>0</td>\n",
       "      <td>0</td>\n",
       "      <td>0</td>\n",
       "      <td>9923</td>\n",
       "    </tr>\n",
       "    <tr>\n",
       "      <th>4</th>\n",
       "      <td>2005</td>\n",
       "      <td>2</td>\n",
       "      <td>202</td>\n",
       "      <td>Afghanistan</td>\n",
       "      <td>United States of America</td>\n",
       "      <td>AFG</td>\n",
       "      <td>USA</td>\n",
       "      <td>AFG</td>\n",
       "      <td>USA</td>\n",
       "      <td>0</td>\n",
       "      <td>...</td>\n",
       "      <td>0</td>\n",
       "      <td>0</td>\n",
       "      <td>0</td>\n",
       "      <td>0</td>\n",
       "      <td>0</td>\n",
       "      <td>0</td>\n",
       "      <td>0</td>\n",
       "      <td>0</td>\n",
       "      <td>0</td>\n",
       "      <td>8931</td>\n",
       "    </tr>\n",
       "  </tbody>\n",
       "</table>\n",
       "<p>5 rows × 24 columns</p>\n",
       "</div>"
      ],
      "text/plain": [
       "   year  coo_id  coa_id     coo_name                  coa_name  coo  coa  \\\n",
       "0  2001       2     202  Afghanistan  United States of America  AFG  USA   \n",
       "1  2002       2     202  Afghanistan  United States of America  AFG  USA   \n",
       "2  2003       2     202  Afghanistan  United States of America  AFG  USA   \n",
       "3  2004       2     202  Afghanistan  United States of America  AFG  USA   \n",
       "4  2005       2     202  Afghanistan  United States of America  AFG  USA   \n",
       "\n",
       "  coo_iso coa_iso  f_0_4  ...  f_other  f_total  m_0_4  m_5_11  m_12_17  \\\n",
       "0     AFG     USA      0  ...        0        0      0       0        0   \n",
       "1     AFG     USA      0  ...        0        0      0       0        0   \n",
       "2     AFG     USA      0  ...        0        0      0       0        0   \n",
       "3     AFG     USA      0  ...        0        0      0       0        0   \n",
       "4     AFG     USA      0  ...        0        0      0       0        0   \n",
       "\n",
       "   m_18_59  m_60  m_other  m_total  total  \n",
       "0        0     0        0        0   7756  \n",
       "1        0     0        0        0   9227  \n",
       "2        0     0        0        0   9821  \n",
       "3        0     0        0        0   9923  \n",
       "4        0     0        0        0   8931  \n",
       "\n",
       "[5 rows x 24 columns]"
      ]
     },
     "execution_count": 405,
     "metadata": {},
     "output_type": "execute_result"
    }
   ],
   "source": [
    "# Show .csv - files in the directory\n",
    "flist = fnmatch.filter(os.listdir('.'), '*.csv')\n",
    "for i in flist:\n",
    "    print(i)\n",
    "\n",
    "# Read the data to a pandas data frame\n",
    "df = pd.read_csv('unhcr_refugee_detailed_data.csv', sep=',', encoding='utf-8')\n",
    "\n",
    "# Show first records of data frame\n",
    "df.head()\n"
   ]
  },
  {
   "cell_type": "markdown",
   "metadata": {},
   "source": [
    "### Count number of rows and columns in the data frame"
   ]
  },
  {
   "cell_type": "code",
   "execution_count": 406,
   "metadata": {},
   "outputs": [
    {
     "name": "stdout",
     "output_type": "stream",
     "text": [
      "Dimension: (1008, 24)\n",
      "Number of rows: 1008\n",
      "Number of columns: 24\n"
     ]
    }
   ],
   "source": [
    "# Dimension (rows, columns)\n",
    "print('Dimension:', df.shape)\n",
    "\n",
    "# Number of rows\n",
    "print('Number of rows:', df.shape[0])\n",
    "\n",
    "# Number of columns\n",
    "print('Number of columns:', df.shape[1])"
   ]
  },
  {
   "cell_type": "markdown",
   "metadata": {},
   "source": [
    "### Get data types"
   ]
  },
  {
   "cell_type": "code",
   "execution_count": 407,
   "metadata": {},
   "outputs": [
    {
     "data": {
      "text/plain": [
       "year         int64\n",
       "coo_id       int64\n",
       "coa_id       int64\n",
       "coo_name    object\n",
       "coa_name    object\n",
       "coo         object\n",
       "coa         object\n",
       "coo_iso     object\n",
       "coa_iso     object\n",
       "f_0_4        int64\n",
       "f_5_11       int64\n",
       "f_12_17      int64\n",
       "f_18_59      int64\n",
       "f_60         int64\n",
       "f_other      int64\n",
       "f_total      int64\n",
       "m_0_4        int64\n",
       "m_5_11       int64\n",
       "m_12_17      int64\n",
       "m_18_59      int64\n",
       "m_60         int64\n",
       "m_other      int64\n",
       "m_total      int64\n",
       "total        int64\n",
       "dtype: object"
      ]
     },
     "execution_count": 407,
     "metadata": {},
     "output_type": "execute_result"
    }
   ],
   "source": [
    "# Get data types (note that in pandas, a string is referred to as 'object')\n",
    "df.dtypes"
   ]
  },
  {
   "cell_type": "markdown",
   "metadata": {},
   "source": [
    "### Extract and save relevant information from raw data using regular expressions (regex)"
   ]
  },
  {
   "cell_type": "markdown",
   "metadata": {},
   "source": [
    "### Calculate Decade"
   ]
  },
  {
   "cell_type": "code",
   "execution_count": 408,
   "metadata": {},
   "outputs": [
    {
     "name": "stdout",
     "output_type": "stream",
     "text": [
      "Unique decades in data: [2000 2010 2020]\n"
     ]
    }
   ],
   "source": [
    "# Calculate the decade\n",
    "df['decade'] = (df['year'] // 10) * 10\n",
    "\n",
    "# Verify unique decades\n",
    "print(\"Unique decades in data:\", df['decade'].unique())"
   ]
  },
  {
   "cell_type": "markdown",
   "metadata": {},
   "source": [
    "### Calculate Male-to-Female Ratio"
   ]
  },
  {
   "cell_type": "code",
   "execution_count": 409,
   "metadata": {},
   "outputs": [
    {
     "name": "stdout",
     "output_type": "stream",
     "text": [
      "   year  f_total  m_total  male_female_ratio\n",
      "0  2001      NaN        0                NaN\n",
      "1  2002      NaN        0                NaN\n",
      "2  2003      NaN        0                NaN\n",
      "3  2004      NaN        0                NaN\n",
      "4  2005      NaN        0                NaN\n"
     ]
    }
   ],
   "source": [
    "# Replace zeros in f_total to prevent division by zero\n",
    "df['f_total'].replace(0, np.nan, inplace=True)\n",
    "\n",
    "# Calculate male-to-female ratio\n",
    "df['male_female_ratio'] = df['m_total'] / df['f_total']\n",
    "\n",
    "# Replace infinite values with NaN\n",
    "df['male_female_ratio'].replace([np.inf, -np.inf], np.nan, inplace=True)\n",
    "\n",
    "# Verify calculation\n",
    "print(df[['year', 'f_total', 'm_total', 'male_female_ratio']].head())\n"
   ]
  },
  {
   "cell_type": "markdown",
   "metadata": {},
   "source": [
    "### Calculate Origin-Destination Total"
   ]
  },
  {
   "cell_type": "code",
   "execution_count": 410,
   "metadata": {},
   "outputs": [
    {
     "name": "stdout",
     "output_type": "stream",
     "text": [
      "      coo_name                  coa_name  origin_destination_total\n",
      "0  Afghanistan  United States of America                    160536\n",
      "1  Afghanistan  United States of America                    160536\n",
      "2  Afghanistan  United States of America                    160536\n",
      "3  Afghanistan  United States of America                    160536\n",
      "4  Afghanistan  United States of America                    160536\n"
     ]
    }
   ],
   "source": [
    "# Aggregate total refugees per origin-destination pair\n",
    "df['origin_destination_total'] = df.groupby(['coo_name', 'coa_name'])['total'].transform('sum')\n",
    "\n",
    "# Verify calculation\n",
    "print(df[['coo_name', 'coa_name', 'origin_destination_total']].head())\n"
   ]
  },
  {
   "cell_type": "markdown",
   "metadata": {},
   "source": [
    "### New Variables"
   ]
  },
  {
   "cell_type": "code",
   "execution_count": 411,
   "metadata": {},
   "outputs": [
    {
     "name": "stdout",
     "output_type": "stream",
     "text": [
      "   year  decade  male_female_ratio  origin_destination_total\n",
      "0  2001    2000                NaN                    160536\n",
      "1  2002    2000                NaN                    160536\n",
      "2  2003    2000                NaN                    160536\n",
      "3  2004    2000                NaN                    160536\n",
      "4  2005    2000                NaN                    160536\n"
     ]
    }
   ],
   "source": [
    "# Display key variables to verify correctness\n",
    "print(df[['year', 'decade', 'male_female_ratio', 'origin_destination_total']].head())"
   ]
  },
  {
   "cell_type": "markdown",
   "metadata": {},
   "source": [
    "### Get data types of all variables including the new ones"
   ]
  },
  {
   "cell_type": "code",
   "execution_count": 412,
   "metadata": {},
   "outputs": [
    {
     "data": {
      "text/plain": [
       "year                          int64\n",
       "coo_id                        int64\n",
       "coa_id                        int64\n",
       "coo_name                     object\n",
       "coa_name                     object\n",
       "coo                          object\n",
       "coa                          object\n",
       "coo_iso                      object\n",
       "coa_iso                      object\n",
       "f_0_4                         int64\n",
       "f_5_11                        int64\n",
       "f_12_17                       int64\n",
       "f_18_59                       int64\n",
       "f_60                          int64\n",
       "f_other                       int64\n",
       "f_total                     float64\n",
       "m_0_4                         int64\n",
       "m_5_11                        int64\n",
       "m_12_17                       int64\n",
       "m_18_59                       int64\n",
       "m_60                          int64\n",
       "m_other                       int64\n",
       "m_total                       int64\n",
       "total                         int64\n",
       "decade                        int64\n",
       "male_female_ratio           float64\n",
       "origin_destination_total      int64\n",
       "dtype: object"
      ]
     },
     "execution_count": 412,
     "metadata": {},
     "output_type": "execute_result"
    }
   ],
   "source": [
    "df.dtypes"
   ]
  },
  {
   "cell_type": "markdown",
   "metadata": {},
   "source": [
    "### Count and identify missing values (if any)"
   ]
  },
  {
   "cell_type": "code",
   "execution_count": 413,
   "metadata": {},
   "outputs": [
    {
     "name": "stdout",
     "output_type": "stream",
     "text": [
      "year                          0\n",
      "coo_id                        0\n",
      "coa_id                        0\n",
      "coo_name                      0\n",
      "coa_name                      0\n",
      "coo                           0\n",
      "coa                           0\n",
      "coo_iso                       0\n",
      "coa_iso                       0\n",
      "f_0_4                         0\n",
      "f_5_11                        0\n",
      "f_12_17                       0\n",
      "f_18_59                       0\n",
      "f_60                          0\n",
      "f_other                       0\n",
      "f_total                     553\n",
      "m_0_4                         0\n",
      "m_5_11                        0\n",
      "m_12_17                       0\n",
      "m_18_59                       0\n",
      "m_60                          0\n",
      "m_other                       0\n",
      "m_total                       0\n",
      "total                         0\n",
      "decade                        0\n",
      "male_female_ratio           553\n",
      "origin_destination_total      0\n",
      "dtype: int64\n"
     ]
    },
    {
     "data": {
      "text/html": [
       "<div>\n",
       "<style scoped>\n",
       "    .dataframe tbody tr th:only-of-type {\n",
       "        vertical-align: middle;\n",
       "    }\n",
       "\n",
       "    .dataframe tbody tr th {\n",
       "        vertical-align: top;\n",
       "    }\n",
       "\n",
       "    .dataframe thead th {\n",
       "        text-align: right;\n",
       "    }\n",
       "</style>\n",
       "<table border=\"1\" class=\"dataframe\">\n",
       "  <thead>\n",
       "    <tr style=\"text-align: right;\">\n",
       "      <th></th>\n",
       "      <th>year</th>\n",
       "      <th>coo_id</th>\n",
       "      <th>coa_id</th>\n",
       "      <th>coo_name</th>\n",
       "      <th>coa_name</th>\n",
       "      <th>coo</th>\n",
       "      <th>coa</th>\n",
       "      <th>coo_iso</th>\n",
       "      <th>coa_iso</th>\n",
       "      <th>f_0_4</th>\n",
       "      <th>...</th>\n",
       "      <th>m_5_11</th>\n",
       "      <th>m_12_17</th>\n",
       "      <th>m_18_59</th>\n",
       "      <th>m_60</th>\n",
       "      <th>m_other</th>\n",
       "      <th>m_total</th>\n",
       "      <th>total</th>\n",
       "      <th>decade</th>\n",
       "      <th>male_female_ratio</th>\n",
       "      <th>origin_destination_total</th>\n",
       "    </tr>\n",
       "  </thead>\n",
       "  <tbody>\n",
       "    <tr>\n",
       "      <th>0</th>\n",
       "      <td>2001</td>\n",
       "      <td>2</td>\n",
       "      <td>202</td>\n",
       "      <td>Afghanistan</td>\n",
       "      <td>United States of America</td>\n",
       "      <td>AFG</td>\n",
       "      <td>USA</td>\n",
       "      <td>AFG</td>\n",
       "      <td>USA</td>\n",
       "      <td>0</td>\n",
       "      <td>...</td>\n",
       "      <td>0</td>\n",
       "      <td>0</td>\n",
       "      <td>0</td>\n",
       "      <td>0</td>\n",
       "      <td>0</td>\n",
       "      <td>0</td>\n",
       "      <td>7756</td>\n",
       "      <td>2000</td>\n",
       "      <td>NaN</td>\n",
       "      <td>160536</td>\n",
       "    </tr>\n",
       "    <tr>\n",
       "      <th>1</th>\n",
       "      <td>2002</td>\n",
       "      <td>2</td>\n",
       "      <td>202</td>\n",
       "      <td>Afghanistan</td>\n",
       "      <td>United States of America</td>\n",
       "      <td>AFG</td>\n",
       "      <td>USA</td>\n",
       "      <td>AFG</td>\n",
       "      <td>USA</td>\n",
       "      <td>0</td>\n",
       "      <td>...</td>\n",
       "      <td>0</td>\n",
       "      <td>0</td>\n",
       "      <td>0</td>\n",
       "      <td>0</td>\n",
       "      <td>0</td>\n",
       "      <td>0</td>\n",
       "      <td>9227</td>\n",
       "      <td>2000</td>\n",
       "      <td>NaN</td>\n",
       "      <td>160536</td>\n",
       "    </tr>\n",
       "    <tr>\n",
       "      <th>2</th>\n",
       "      <td>2003</td>\n",
       "      <td>2</td>\n",
       "      <td>202</td>\n",
       "      <td>Afghanistan</td>\n",
       "      <td>United States of America</td>\n",
       "      <td>AFG</td>\n",
       "      <td>USA</td>\n",
       "      <td>AFG</td>\n",
       "      <td>USA</td>\n",
       "      <td>0</td>\n",
       "      <td>...</td>\n",
       "      <td>0</td>\n",
       "      <td>0</td>\n",
       "      <td>0</td>\n",
       "      <td>0</td>\n",
       "      <td>0</td>\n",
       "      <td>0</td>\n",
       "      <td>9821</td>\n",
       "      <td>2000</td>\n",
       "      <td>NaN</td>\n",
       "      <td>160536</td>\n",
       "    </tr>\n",
       "    <tr>\n",
       "      <th>3</th>\n",
       "      <td>2004</td>\n",
       "      <td>2</td>\n",
       "      <td>202</td>\n",
       "      <td>Afghanistan</td>\n",
       "      <td>United States of America</td>\n",
       "      <td>AFG</td>\n",
       "      <td>USA</td>\n",
       "      <td>AFG</td>\n",
       "      <td>USA</td>\n",
       "      <td>0</td>\n",
       "      <td>...</td>\n",
       "      <td>0</td>\n",
       "      <td>0</td>\n",
       "      <td>0</td>\n",
       "      <td>0</td>\n",
       "      <td>0</td>\n",
       "      <td>0</td>\n",
       "      <td>9923</td>\n",
       "      <td>2000</td>\n",
       "      <td>NaN</td>\n",
       "      <td>160536</td>\n",
       "    </tr>\n",
       "    <tr>\n",
       "      <th>4</th>\n",
       "      <td>2005</td>\n",
       "      <td>2</td>\n",
       "      <td>202</td>\n",
       "      <td>Afghanistan</td>\n",
       "      <td>United States of America</td>\n",
       "      <td>AFG</td>\n",
       "      <td>USA</td>\n",
       "      <td>AFG</td>\n",
       "      <td>USA</td>\n",
       "      <td>0</td>\n",
       "      <td>...</td>\n",
       "      <td>0</td>\n",
       "      <td>0</td>\n",
       "      <td>0</td>\n",
       "      <td>0</td>\n",
       "      <td>0</td>\n",
       "      <td>0</td>\n",
       "      <td>8931</td>\n",
       "      <td>2000</td>\n",
       "      <td>NaN</td>\n",
       "      <td>160536</td>\n",
       "    </tr>\n",
       "  </tbody>\n",
       "</table>\n",
       "<p>5 rows × 27 columns</p>\n",
       "</div>"
      ],
      "text/plain": [
       "   year  coo_id  coa_id     coo_name                  coa_name  coo  coa  \\\n",
       "0  2001       2     202  Afghanistan  United States of America  AFG  USA   \n",
       "1  2002       2     202  Afghanistan  United States of America  AFG  USA   \n",
       "2  2003       2     202  Afghanistan  United States of America  AFG  USA   \n",
       "3  2004       2     202  Afghanistan  United States of America  AFG  USA   \n",
       "4  2005       2     202  Afghanistan  United States of America  AFG  USA   \n",
       "\n",
       "  coo_iso coa_iso  f_0_4  ...  m_5_11  m_12_17  m_18_59  m_60  m_other  \\\n",
       "0     AFG     USA      0  ...       0        0        0     0        0   \n",
       "1     AFG     USA      0  ...       0        0        0     0        0   \n",
       "2     AFG     USA      0  ...       0        0        0     0        0   \n",
       "3     AFG     USA      0  ...       0        0        0     0        0   \n",
       "4     AFG     USA      0  ...       0        0        0     0        0   \n",
       "\n",
       "   m_total  total  decade  male_female_ratio  origin_destination_total  \n",
       "0        0   7756    2000                NaN                    160536  \n",
       "1        0   9227    2000                NaN                    160536  \n",
       "2        0   9821    2000                NaN                    160536  \n",
       "3        0   9923    2000                NaN                    160536  \n",
       "4        0   8931    2000                NaN                    160536  \n",
       "\n",
       "[5 rows x 27 columns]"
      ]
     },
     "execution_count": 413,
     "metadata": {},
     "output_type": "execute_result"
    }
   ],
   "source": [
    "# Count missing values\n",
    "print(pd.isna(df).sum())\n",
    "\n",
    "# Identify rows with missing values\n",
    "df[df.isna().any(axis=1)].head()"
   ]
  },
  {
   "cell_type": "markdown",
   "metadata": {},
   "source": [
    "### Count and identify duplicated values (if any)"
   ]
  },
  {
   "cell_type": "code",
   "execution_count": 414,
   "metadata": {},
   "outputs": [
    {
     "name": "stdout",
     "output_type": "stream",
     "text": [
      "0\n"
     ]
    },
    {
     "data": {
      "text/html": [
       "<div>\n",
       "<style scoped>\n",
       "    .dataframe tbody tr th:only-of-type {\n",
       "        vertical-align: middle;\n",
       "    }\n",
       "\n",
       "    .dataframe tbody tr th {\n",
       "        vertical-align: top;\n",
       "    }\n",
       "\n",
       "    .dataframe thead th {\n",
       "        text-align: right;\n",
       "    }\n",
       "</style>\n",
       "<table border=\"1\" class=\"dataframe\">\n",
       "  <thead>\n",
       "    <tr style=\"text-align: right;\">\n",
       "      <th></th>\n",
       "      <th>year</th>\n",
       "      <th>coo_id</th>\n",
       "      <th>coa_id</th>\n",
       "      <th>coo_name</th>\n",
       "      <th>coa_name</th>\n",
       "      <th>coo</th>\n",
       "      <th>coa</th>\n",
       "      <th>coo_iso</th>\n",
       "      <th>coa_iso</th>\n",
       "      <th>f_0_4</th>\n",
       "      <th>...</th>\n",
       "      <th>m_5_11</th>\n",
       "      <th>m_12_17</th>\n",
       "      <th>m_18_59</th>\n",
       "      <th>m_60</th>\n",
       "      <th>m_other</th>\n",
       "      <th>m_total</th>\n",
       "      <th>total</th>\n",
       "      <th>decade</th>\n",
       "      <th>male_female_ratio</th>\n",
       "      <th>origin_destination_total</th>\n",
       "    </tr>\n",
       "  </thead>\n",
       "  <tbody>\n",
       "  </tbody>\n",
       "</table>\n",
       "<p>0 rows × 27 columns</p>\n",
       "</div>"
      ],
      "text/plain": [
       "Empty DataFrame\n",
       "Columns: [year, coo_id, coa_id, coo_name, coa_name, coo, coa, coo_iso, coa_iso, f_0_4, f_5_11, f_12_17, f_18_59, f_60, f_other, f_total, m_0_4, m_5_11, m_12_17, m_18_59, m_60, m_other, m_total, total, decade, male_female_ratio, origin_destination_total]\n",
       "Index: []\n",
       "\n",
       "[0 rows x 27 columns]"
      ]
     },
     "execution_count": 414,
     "metadata": {},
     "output_type": "execute_result"
    }
   ],
   "source": [
    "# Count duplicated values\n",
    "print(df.duplicated().sum())\n",
    "\n",
    "# Identify rows with duplicated values:\n",
    "df[df.duplicated()].head()\n"
   ]
  },
  {
   "cell_type": "markdown",
   "metadata": {},
   "source": [
    "### Save data to file"
   ]
  },
  {
   "cell_type": "code",
   "execution_count": 415,
   "metadata": {},
   "outputs": [],
   "source": [
    "df.to_csv('prepared_refugee_data.csv', \n",
    "          sep=\",\", \n",
    "          encoding='utf-8',\n",
    "          index=False)"
   ]
  },
  {
   "cell_type": "markdown",
   "metadata": {},
   "source": [
    "## Combine, Organize and Enrich"
   ]
  },
  {
   "cell_type": "markdown",
   "metadata": {},
   "source": [
    "To see whether higher GDP correlates with more refugees being accepted.\n",
    "We see the coa country in the \"prepared_refugee_data.csv\" file and the year, then we take the same country name and same year and give the GDP of the country as well as how many refugees in that year were accepted."
   ]
  },
  {
   "cell_type": "code",
   "execution_count": 416,
   "metadata": {},
   "outputs": [],
   "source": [
    "import pandas as pd\n",
    "\n",
    "# Read the datasets\n",
    "refugee_df = pd.read_csv('prepared_refugee_data.csv', sep=',', encoding='utf-8')\n",
    "gdp_df = pd.read_csv('gdp_data_1998_2024.csv', sep=',', encoding='utf-8')\n",
    "\n",
    "# Rename 'coa_name' to 'country_name' in the refugee dataset for merging\n",
    "refugee_df.rename(columns={'coa_name': 'country_name'}, inplace=True)\n"
   ]
  },
  {
   "cell_type": "code",
   "execution_count": 417,
   "metadata": {},
   "outputs": [],
   "source": [
    "# Select relevant columns\n",
    "refugee_df = refugee_df[['country_name', 'year', 'total']]\n",
    "gdp_df = gdp_df[['country_name', 'year', 'gdp']]\n"
   ]
  },
  {
   "cell_type": "code",
   "execution_count": 418,
   "metadata": {},
   "outputs": [],
   "source": [
    "# Select relevant columns\n",
    "refugee_df = refugee_df[['country_name', 'year', 'total']]\n",
    "gdp_df = gdp_df[['country_name', 'year', 'gdp']]\n",
    "\n",
    "# Rename columns for clarity\n",
    "refugee_df.rename(columns={'total': 'refugee_count'}, inplace=True)"
   ]
  },
  {
   "cell_type": "code",
   "execution_count": 419,
   "metadata": {},
   "outputs": [
    {
     "name": "stdout",
     "output_type": "stream",
     "text": [
      "  country_name  year  refugee_count           gdp\n",
      "0       France  2001           1284  1.370377e+12\n",
      "1       France  2002           1256  1.492428e+12\n",
      "2       France  2003           1167  1.835096e+12\n",
      "3       France  2004           1220  2.109792e+12\n",
      "4       France  2005           1228  2.192146e+12\n"
     ]
    }
   ],
   "source": [
    "# Merge datasets\n",
    "combined_df = pd.merge(refugee_df, gdp_df, on=['country_name', 'year'], how='inner')\n",
    "\n",
    "# Inspect the merged dataset\n",
    "print(combined_df.head())"
   ]
  },
  {
   "cell_type": "code",
   "execution_count": 420,
   "metadata": {},
   "outputs": [
    {
     "name": "stdout",
     "output_type": "stream",
     "text": [
      "✅ Combined dataset saved as 'combined.csv'\n"
     ]
    }
   ],
   "source": [
    "# Reorder columns for clarity\n",
    "combined_df = combined_df[['country_name', 'year', 'gdp', 'refugee_count']]\n",
    "\n",
    "# Save the combined dataset\n",
    "combined_df.to_csv('combined.csv', index=False)\n",
    "print(\"✅ Combined dataset saved as 'combined.csv'\")"
   ]
  },
  {
   "cell_type": "markdown",
   "metadata": {},
   "source": [
    "## Final Dataset\n",
    "\n",
    "Cleaned, new variable added, prepared and enriched"
   ]
  },
  {
   "cell_type": "code",
   "execution_count": 421,
   "metadata": {},
   "outputs": [],
   "source": [
    "# Load datasets\n",
    "prepared_refugee_df = pd.read_csv('prepared_refugee_data.csv')\n",
    "combined_df = pd.read_csv('combined.csv')\n",
    "\n",
    "# Rename 'coa_name' to 'country_name' for alignment\n",
    "prepared_refugee_df.rename(columns={'coa_name': 'country_name'}, inplace=True)\n",
    "\n",
    "# Outer join to preserve all data\n",
    "ultimate_df = pd.merge(prepared_refugee_df, combined_df, on=['year', 'country_name'], how='outer')"
   ]
  },
  {
   "cell_type": "code",
   "execution_count": 422,
   "metadata": {},
   "outputs": [],
   "source": [
    "# Fill missing GDP values with 0 or a placeholder\n",
    "ultimate_df['gdp'].fillna(0, inplace=True)\n",
    "\n",
    "# Fill missing refugee counts with 0 or a placeholder\n",
    "ultimate_df['refugee_count'].fillna(0, inplace=True)\n",
    "\n",
    "# Optionally, drop rows with critical missing data\n",
    "ultimate_df.dropna(subset=['country_name', 'year'], inplace=True)"
   ]
  },
  {
   "cell_type": "code",
   "execution_count": 423,
   "metadata": {},
   "outputs": [],
   "source": [
    "# Remove duplicate rows if any\n",
    "ultimate_df.drop_duplicates(inplace=True)"
   ]
  },
  {
   "cell_type": "code",
   "execution_count": 424,
   "metadata": {},
   "outputs": [],
   "source": [
    "# Reorder columns for clarity\n",
    "ultimate_df = ultimate_df[['year', 'country_name', 'gdp', 'refugee_count', 'coo_name', 'total', 'male_female_ratio']]"
   ]
  },
  {
   "cell_type": "code",
   "execution_count": 425,
   "metadata": {},
   "outputs": [
    {
     "name": "stdout",
     "output_type": "stream",
     "text": [
      "✅ Dataset saved as 'refugee_data_and_gdp.csv'\n"
     ]
    }
   ],
   "source": [
    "# Save the final dataset\n",
    "ultimate_df.to_csv('refugee_data_and_gdp.csv', index=False)\n",
    "print(\"✅ Dataset saved as 'refugee_data_and_gdp.csv'\")"
   ]
  }
 ],
 "metadata": {
  "kernelspec": {
   "display_name": ".venv",
   "language": "python",
   "name": "python3"
  },
  "language_info": {
   "codemirror_mode": {
    "name": "ipython",
    "version": 3
   },
   "file_extension": ".py",
   "mimetype": "text/x-python",
   "name": "python",
   "nbconvert_exporter": "python",
   "pygments_lexer": "ipython3",
   "version": "3.12.6"
  }
 },
 "nbformat": 4,
 "nbformat_minor": 2
}
